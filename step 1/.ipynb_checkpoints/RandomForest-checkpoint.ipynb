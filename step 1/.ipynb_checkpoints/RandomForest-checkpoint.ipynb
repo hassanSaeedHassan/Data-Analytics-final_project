{
 "cells": [
  {
   "cell_type": "markdown",
   "id": "fd9d247c",
   "metadata": {
    "id": "fd9d247c"
   },
   "source": [
    "# Loading the classes"
   ]
  },
  {
   "cell_type": "code",
   "execution_count": 1,
   "id": "19b7ea23",
   "metadata": {
    "id": "19b7ea23"
   },
   "outputs": [],
   "source": [
    "import sys\n",
    "sys.path.append('..')\n",
    "\n",
    "from my_package.data_cleaning import *\n",
    "from my_package.modeling import *\n",
    "from my_package.preprocessing import *\n",
    "from my_package.nn_modeling import *"
   ]
  },
  {
   "cell_type": "markdown",
   "id": "3ec568e9",
   "metadata": {
    "id": "3ec568e9"
   },
   "source": [
    "# Splitting the data"
   ]
  },
  {
   "cell_type": "markdown",
   "id": "uLyVJQKlaZ65",
   "metadata": {
    "id": "uLyVJQKlaZ65"
   },
   "source": [
    "Here we'll split data into training and testing same as the provided baseline notebook based on month column"
   ]
  },
  {
   "cell_type": "code",
   "execution_count": 2,
   "id": "055ff280",
   "metadata": {
    "id": "055ff280"
   },
   "outputs": [],
   "source": [
    "def split_data(df,criteria='random'):\n",
    "    X = df.drop(['fraud_bool'], axis=1)\n",
    "    y = df['fraud_bool']\n",
    "    if criteria=='paper':\n",
    "\n",
    "        # Train test split by 'month', month 0-5 are train, 6-7 are test data as proposed in the paper\n",
    "        X_train = X[X['month']<6]\n",
    "        X_test = X[X['month']>=6]\n",
    "        y_train = y[X['month']<6]\n",
    "        y_test = y[X['month']>=6]\n",
    "\n",
    "\n",
    "    elif criteria=='random':\n",
    "        X_train, X_test, y_train, y_test = train_test_split(X, y, test_size=0.2, random_state=42)\n",
    "\n",
    "    elif criteria=='stratify':\n",
    "\n",
    "        X_train, X_test, y_train, y_test = train_test_split(X, y,stratify=y, test_size=0.2, random_state=42)\n",
    "\n",
    "    X_train.drop('month', axis=1, inplace=True)\n",
    "    X_test.drop('month', axis=1, inplace=True)\n",
    "    return X_train, X_test, y_train, y_test"
   ]
  },
  {
   "cell_type": "markdown",
   "id": "3143e44c",
   "metadata": {
    "id": "3143e44c"
   },
   "source": [
    "# Reading the data"
   ]
  },
  {
   "cell_type": "code",
   "execution_count": 4,
   "id": "9ed0f7e1",
   "metadata": {
    "id": "9ed0f7e1"
   },
   "outputs": [],
   "source": [
    "df=data_cleaning('Base.csv').get_data()"
   ]
  },
  {
   "cell_type": "code",
   "execution_count": 5,
   "id": "qX6Z1TGDg9Lx",
   "metadata": {
    "colab": {
     "base_uri": "https://localhost:8080/",
     "height": 299
    },
    "id": "qX6Z1TGDg9Lx",
    "outputId": "aa626139-740d-4804-9067-7c03d3be80f5"
   },
   "outputs": [
    {
     "data": {
      "text/html": [
       "<div>\n",
       "<style scoped>\n",
       "    .dataframe tbody tr th:only-of-type {\n",
       "        vertical-align: middle;\n",
       "    }\n",
       "\n",
       "    .dataframe tbody tr th {\n",
       "        vertical-align: top;\n",
       "    }\n",
       "\n",
       "    .dataframe thead th {\n",
       "        text-align: right;\n",
       "    }\n",
       "</style>\n",
       "<table border=\"1\" class=\"dataframe\">\n",
       "  <thead>\n",
       "    <tr style=\"text-align: right;\">\n",
       "      <th></th>\n",
       "      <th>fraud_bool</th>\n",
       "      <th>income</th>\n",
       "      <th>name_email_similarity</th>\n",
       "      <th>prev_address_months_count</th>\n",
       "      <th>current_address_months_count</th>\n",
       "      <th>customer_age</th>\n",
       "      <th>days_since_request</th>\n",
       "      <th>intended_balcon_amount</th>\n",
       "      <th>payment_type</th>\n",
       "      <th>zip_count_4w</th>\n",
       "      <th>...</th>\n",
       "      <th>bank_months_count</th>\n",
       "      <th>has_other_cards</th>\n",
       "      <th>proposed_credit_limit</th>\n",
       "      <th>foreign_request</th>\n",
       "      <th>source</th>\n",
       "      <th>session_length_in_minutes</th>\n",
       "      <th>device_os</th>\n",
       "      <th>keep_alive_session</th>\n",
       "      <th>device_distinct_emails_8w</th>\n",
       "      <th>month</th>\n",
       "    </tr>\n",
       "  </thead>\n",
       "  <tbody>\n",
       "    <tr>\n",
       "      <th>0</th>\n",
       "      <td>1</td>\n",
       "      <td>0.9</td>\n",
       "      <td>0.166828</td>\n",
       "      <td>-1</td>\n",
       "      <td>88</td>\n",
       "      <td>50</td>\n",
       "      <td>0.020925</td>\n",
       "      <td>-1.331345</td>\n",
       "      <td>AA</td>\n",
       "      <td>769</td>\n",
       "      <td>...</td>\n",
       "      <td>24</td>\n",
       "      <td>0</td>\n",
       "      <td>500.0</td>\n",
       "      <td>0</td>\n",
       "      <td>INTERNET</td>\n",
       "      <td>3.888115</td>\n",
       "      <td>windows</td>\n",
       "      <td>0</td>\n",
       "      <td>1</td>\n",
       "      <td>7</td>\n",
       "    </tr>\n",
       "    <tr>\n",
       "      <th>1</th>\n",
       "      <td>1</td>\n",
       "      <td>0.9</td>\n",
       "      <td>0.296286</td>\n",
       "      <td>-1</td>\n",
       "      <td>144</td>\n",
       "      <td>50</td>\n",
       "      <td>0.005418</td>\n",
       "      <td>-0.816224</td>\n",
       "      <td>AB</td>\n",
       "      <td>366</td>\n",
       "      <td>...</td>\n",
       "      <td>15</td>\n",
       "      <td>0</td>\n",
       "      <td>1500.0</td>\n",
       "      <td>0</td>\n",
       "      <td>INTERNET</td>\n",
       "      <td>31.798819</td>\n",
       "      <td>windows</td>\n",
       "      <td>0</td>\n",
       "      <td>1</td>\n",
       "      <td>7</td>\n",
       "    </tr>\n",
       "    <tr>\n",
       "      <th>2</th>\n",
       "      <td>1</td>\n",
       "      <td>0.9</td>\n",
       "      <td>0.044985</td>\n",
       "      <td>-1</td>\n",
       "      <td>132</td>\n",
       "      <td>40</td>\n",
       "      <td>3.108549</td>\n",
       "      <td>-0.755728</td>\n",
       "      <td>AC</td>\n",
       "      <td>870</td>\n",
       "      <td>...</td>\n",
       "      <td>-1</td>\n",
       "      <td>0</td>\n",
       "      <td>200.0</td>\n",
       "      <td>0</td>\n",
       "      <td>INTERNET</td>\n",
       "      <td>4.728705</td>\n",
       "      <td>other</td>\n",
       "      <td>0</td>\n",
       "      <td>1</td>\n",
       "      <td>7</td>\n",
       "    </tr>\n",
       "    <tr>\n",
       "      <th>3</th>\n",
       "      <td>1</td>\n",
       "      <td>0.9</td>\n",
       "      <td>0.159511</td>\n",
       "      <td>-1</td>\n",
       "      <td>22</td>\n",
       "      <td>50</td>\n",
       "      <td>0.019079</td>\n",
       "      <td>-1.205124</td>\n",
       "      <td>AB</td>\n",
       "      <td>810</td>\n",
       "      <td>...</td>\n",
       "      <td>31</td>\n",
       "      <td>1</td>\n",
       "      <td>200.0</td>\n",
       "      <td>0</td>\n",
       "      <td>INTERNET</td>\n",
       "      <td>2.047904</td>\n",
       "      <td>linux</td>\n",
       "      <td>0</td>\n",
       "      <td>1</td>\n",
       "      <td>7</td>\n",
       "    </tr>\n",
       "    <tr>\n",
       "      <th>4</th>\n",
       "      <td>1</td>\n",
       "      <td>0.9</td>\n",
       "      <td>0.596414</td>\n",
       "      <td>-1</td>\n",
       "      <td>218</td>\n",
       "      <td>50</td>\n",
       "      <td>0.004441</td>\n",
       "      <td>-0.773276</td>\n",
       "      <td>AB</td>\n",
       "      <td>890</td>\n",
       "      <td>...</td>\n",
       "      <td>31</td>\n",
       "      <td>0</td>\n",
       "      <td>1500.0</td>\n",
       "      <td>0</td>\n",
       "      <td>INTERNET</td>\n",
       "      <td>3.775225</td>\n",
       "      <td>macintosh</td>\n",
       "      <td>1</td>\n",
       "      <td>1</td>\n",
       "      <td>7</td>\n",
       "    </tr>\n",
       "  </tbody>\n",
       "</table>\n",
       "<p>5 rows × 31 columns</p>\n",
       "</div>"
      ],
      "text/plain": [
       "  fraud_bool income  name_email_similarity  prev_address_months_count  \\\n",
       "0          1    0.9               0.166828                         -1   \n",
       "1          1    0.9               0.296286                         -1   \n",
       "2          1    0.9               0.044985                         -1   \n",
       "3          1    0.9               0.159511                         -1   \n",
       "4          1    0.9               0.596414                         -1   \n",
       "\n",
       "   current_address_months_count customer_age  days_since_request  \\\n",
       "0                            88           50            0.020925   \n",
       "1                           144           50            0.005418   \n",
       "2                           132           40            3.108549   \n",
       "3                            22           50            0.019079   \n",
       "4                           218           50            0.004441   \n",
       "\n",
       "   intended_balcon_amount payment_type  zip_count_4w  ...  bank_months_count  \\\n",
       "0               -1.331345           AA           769  ...                 24   \n",
       "1               -0.816224           AB           366  ...                 15   \n",
       "2               -0.755728           AC           870  ...                 -1   \n",
       "3               -1.205124           AB           810  ...                 31   \n",
       "4               -0.773276           AB           890  ...                 31   \n",
       "\n",
       "   has_other_cards  proposed_credit_limit  foreign_request    source  \\\n",
       "0                0                  500.0                0  INTERNET   \n",
       "1                0                 1500.0                0  INTERNET   \n",
       "2                0                  200.0                0  INTERNET   \n",
       "3                1                  200.0                0  INTERNET   \n",
       "4                0                 1500.0                0  INTERNET   \n",
       "\n",
       "  session_length_in_minutes  device_os keep_alive_session  \\\n",
       "0                  3.888115    windows                  0   \n",
       "1                 31.798819    windows                  0   \n",
       "2                  4.728705      other                  0   \n",
       "3                  2.047904      linux                  0   \n",
       "4                  3.775225  macintosh                  1   \n",
       "\n",
       "  device_distinct_emails_8w month  \n",
       "0                         1     7  \n",
       "1                         1     7  \n",
       "2                         1     7  \n",
       "3                         1     7  \n",
       "4                         1     7  \n",
       "\n",
       "[5 rows x 31 columns]"
      ]
     },
     "execution_count": 5,
     "metadata": {},
     "output_type": "execute_result"
    }
   ],
   "source": [
    "df.head()"
   ]
  },
  {
   "cell_type": "code",
   "execution_count": 6,
   "id": "1fef7d6f",
   "metadata": {
    "id": "1fef7d6f"
   },
   "outputs": [],
   "source": [
    "# split the data\n",
    "X_train, X_test, y_train, y_test=split_data(df,criteria= 'paper')"
   ]
  },
  {
   "cell_type": "markdown",
   "id": "4e0fe857",
   "metadata": {
    "id": "4e0fe857"
   },
   "source": [
    "# Getting the groups:"
   ]
  },
  {
   "cell_type": "code",
   "execution_count": 7,
   "id": "f664bf91",
   "metadata": {
    "id": "f664bf91"
   },
   "outputs": [],
   "source": [
    "train_groups=(X_train[\"customer_age\"] > 50).map({True: \">50\", False: \"<=50\"})\n",
    "test_groups=(X_test[\"customer_age\"] > 50).map({True: \">50\", False: \"<=50\"})"
   ]
  },
  {
   "cell_type": "markdown",
   "id": "d6ab8b22",
   "metadata": {
    "id": "d6ab8b22"
   },
   "source": [
    "# Start the preprocessing"
   ]
  },
  {
   "cell_type": "code",
   "execution_count": 8,
   "id": "3360351f",
   "metadata": {
    "id": "3360351f"
   },
   "outputs": [],
   "source": [
    "data = preprocessing(X_train, y_train)"
   ]
  },
  {
   "cell_type": "markdown",
   "id": "e105813e",
   "metadata": {
    "id": "e105813e"
   },
   "source": [
    "# Scaling numerical features:"
   ]
  },
  {
   "cell_type": "markdown",
   "id": "cX7GTM8pbHhm",
   "metadata": {
    "id": "cX7GTM8pbHhm"
   },
   "source": [
    "Use \"Standard Scaler\" for numerical features same as baseline notebook"
   ]
  },
  {
   "cell_type": "code",
   "execution_count": 9,
   "id": "f65e09eb",
   "metadata": {
    "id": "f65e09eb"
   },
   "outputs": [],
   "source": [
    "scalers = {}\n",
    "for column in X_train.select_dtypes(include=['int','float']):\n",
    "    m,scaler=data.scale_data('minmax',column)\n",
    "    scalers[column] = scaler"
   ]
  },
  {
   "cell_type": "markdown",
   "id": "tibNUMQnbSaO",
   "metadata": {
    "id": "tibNUMQnbSaO"
   },
   "source": [
    "Apply transform on test data"
   ]
  },
  {
   "cell_type": "code",
   "execution_count": 10,
   "id": "b47a06ad",
   "metadata": {
    "id": "b47a06ad"
   },
   "outputs": [],
   "source": [
    "# apply the same scaling on the testset\n",
    "for column in X_test.select_dtypes(include=['int','float']):\n",
    "    X_test[column] = scalers[column].transform(X_test[[column]])"
   ]
  },
  {
   "cell_type": "markdown",
   "id": "955010f2",
   "metadata": {
    "id": "955010f2"
   },
   "source": [
    "# Encode the categorical features"
   ]
  },
  {
   "cell_type": "markdown",
   "id": "LitakljrcP4p",
   "metadata": {
    "id": "LitakljrcP4p"
   },
   "source": [
    "Using Label Encoder"
   ]
  },
  {
   "cell_type": "code",
   "execution_count": 11,
   "id": "c2f5f488",
   "metadata": {
    "id": "c2f5f488"
   },
   "outputs": [],
   "source": [
    "encoders = {}\n",
    "for column in X_train.select_dtypes(include=['category','object']):\n",
    "    _, encoder = data.encode_categorical_features(column , encoding_type= 'label')\n",
    "    encoders[column] = encoder"
   ]
  },
  {
   "cell_type": "markdown",
   "id": "A4_TmsqIcTjO",
   "metadata": {
    "id": "A4_TmsqIcTjO"
   },
   "source": [
    "Transform the test data"
   ]
  },
  {
   "cell_type": "code",
   "execution_count": 12,
   "id": "e8dde1fa",
   "metadata": {
    "id": "e8dde1fa"
   },
   "outputs": [],
   "source": [
    "# encode the testset using the encoders fitted on the training set\n",
    "for column in X_test.select_dtypes(include=['object','category']).columns:\n",
    "    X_test[column]=encoders[column].transform(X_test[column].values.reshape(-1, 1))"
   ]
  },
  {
   "cell_type": "code",
   "execution_count": null,
   "id": "abxjh4LEhOwj",
   "metadata": {
    "id": "abxjh4LEhOwj"
   },
   "outputs": [],
   "source": [
    "#data.concat_data()"
   ]
  },
  {
   "cell_type": "code",
   "execution_count": 13,
   "id": "0d162ab5",
   "metadata": {
    "id": "0d162ab5"
   },
   "outputs": [],
   "source": [
    "# arrange the column names according to the concat data\n",
    "X_test=X_test[data.concat_data().columns]"
   ]
  },
  {
   "cell_type": "code",
   "execution_count": 14,
   "id": "b6b3ae4d",
   "metadata": {
    "id": "b6b3ae4d"
   },
   "outputs": [],
   "source": [
    "X_train,y_train=data.get_data()"
   ]
  },
  {
   "cell_type": "markdown",
   "id": "43a490d7",
   "metadata": {
    "id": "43a490d7"
   },
   "source": [
    "# Modeling : Training and Evaluation"
   ]
  },
  {
   "cell_type": "code",
   "execution_count": 15,
   "id": "a17bd5ad",
   "metadata": {
    "id": "a17bd5ad"
   },
   "outputs": [],
   "source": [
    "experiment=modeling(X_train,X_test,y_train,y_test,train_groups,test_groups)"
   ]
  },
  {
   "cell_type": "code",
   "execution_count": 15,
   "id": "a1336506",
   "metadata": {
    "id": "a1336506"
   },
   "outputs": [],
   "source": [
    "from sklearn.ensemble import RandomForestClassifier\n",
    "param_grid = {\n",
    "    'n_estimators': [50,100, 150],\n",
    "    'max_depth': [5, 10, 15],\n",
    "    'min_samples_split': [2, 5, 10],\n",
    "    'class_weight': ['balanced']\n",
    "}\n",
    "\n",
    "rf = RandomForestClassifier()"
   ]
  },
  {
   "cell_type": "code",
   "execution_count": 18,
   "id": "720d63da",
   "metadata": {
    "colab": {
     "base_uri": "https://localhost:8080/",
     "height": 993
    },
    "id": "720d63da",
    "outputId": "fa8679cf-f3da-4c33-c9f1-020b968019a9"
   },
   "outputs": [
    {
     "name": "stdout",
     "output_type": "stream",
     "text": [
      "Fitting 1 folds for each of 10 candidates, totalling 10 fits\n",
      "Best hyperparameters: {'n_estimators': 150, 'min_samples_split': 5, 'max_depth': 10, 'class_weight': 'balanced'}\n",
      "Best estimator: RandomForestClassifier(class_weight='balanced', max_depth=10,\n",
      "                       min_samples_split=5, n_estimators=150)\n",
      "Best score: 0.8782049711459643\n",
      "AUC: 0.8726810824543734\n",
      "TPR:  48.68% \n",
      "FPR:  5.0% \n",
      "Threshold:  0.65\n",
      "Predictive Equality:  96.23%\n"
     ]
    },
    {
     "data": {
      "image/png": "[encoded data removed]",
      "text/plain": [
       "<Figure size 1000x400 with 2 Axes>"
      ]
     },
     "metadata": {},
     "output_type": "display_data"
    },
    {
     "data": {
      "image/png": "[encoded data removed]",
      "text/plain": [
       "<Figure size 1000x400 with 4 Axes>"
      ]
     },
     "metadata": {},
     "output_type": "display_data"
    },
    {
     "name": "stdout",
     "output_type": "stream",
     "text": [
      "CPU times: user 5min 9s, sys: 2.38 s, total: 5min 11s\n",
      "Wall time: 21min 57s\n"
     ]
    }
   ],
   "source": [
    "%%time\n",
    "experiment.train(rf,param_grid=param_grid,search_type='random')"
   ]
  },
  {
   "cell_type": "code",
   "execution_count": 19,
   "id": "6050ccae",
   "metadata": {
    "colab": {
     "base_uri": "https://localhost:8080/"
    },
    "id": "6050ccae",
    "outputId": "16cf69d1-44da-4017-96b4-f38c23b0ad4c"
   },
   "outputs": [
    {
     "name": "stdout",
     "output_type": "stream",
     "text": [
      "Model saved at: RandomForest.pkl\n"
     ]
    }
   ],
   "source": [
    "# Save the best model\n",
    "saved_model_path = experiment.save_model('models/RandomForest.pkl')\n",
    "print(\"Model saved at:\", saved_model_path)"
   ]
  },
  {
   "cell_type": "code",
   "execution_count": 16,
   "id": "QQB1yOwBrHhn",
   "metadata": {
    "id": "QQB1yOwBrHhn"
   },
   "outputs": [],
   "source": [
    "import pickle\n",
    "\n",
    "# Load the model from the pickle file\n",
    "with open('models/RandomForest.pkl', 'rb') as file:\n",
    "    loaded_model = pickle.load(file)\n"
   ]
  },
  {
   "cell_type": "code",
   "execution_count": 18,
   "id": "9cf06eed",
   "metadata": {},
   "outputs": [
    {
     "name": "stdout",
     "output_type": "stream",
     "text": [
      "              precision    recall  f1-score   support\n",
      "\n",
      "           0       0.99      0.95      0.97    202133\n",
      "           1       0.12      0.49      0.19      2878\n",
      "\n",
      "    accuracy                           0.94    205011\n",
      "   macro avg       0.56      0.72      0.58    205011\n",
      "weighted avg       0.98      0.94      0.96    205011\n",
      "\n"
     ]
    }
   ],
   "source": [
    "# the classification report after using the best threshold\n",
    "y_pred=loaded_model.predict_proba(X_test)[:,1]\n",
    "y_pred_new_threshold = np.where(y_pred >= 0.65, 1, 0)\n",
    "print(classification_report(y_test,y_pred_new_threshold))"
   ]
  },
  {
   "cell_type": "code",
   "execution_count": 19,
   "id": "453e0625",
   "metadata": {},
   "outputs": [
    {
     "name": "stdout",
     "output_type": "stream",
     "text": [
      "[[192073  10060]\n",
      " [  1482   1396]]\n"
     ]
    }
   ],
   "source": [
    "print(confusion_matrix(y_test,y_pred_new_threshold))"
   ]
  }
 ],
 "metadata": {
  "colab": {
   "provenance": []
  },
  "kernelspec": {
   "display_name": "Python 3 (ipykernel)",
   "language": "python",
   "name": "python3"
  },
  "language_info": {
   "codemirror_mode": {
    "name": "ipython",
    "version": 3
   },
   "file_extension": ".py",
   "mimetype": "text/x-python",
   "name": "python",
   "nbconvert_exporter": "python",
   "pygments_lexer": "ipython3",
   "version": "3.8.16"
  }
 },
 "nbformat": 4,
 "nbformat_minor": 5
}
