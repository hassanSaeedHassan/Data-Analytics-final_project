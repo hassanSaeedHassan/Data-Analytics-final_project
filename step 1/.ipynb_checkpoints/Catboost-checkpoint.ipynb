{
 "cells": [
  {
   "cell_type": "markdown",
   "id": "fd9d247c",
   "metadata": {
    "id": "fd9d247c"
   },
   "source": [
    "# loading the classes"
   ]
  },
  {
   "cell_type": "code",
   "execution_count": 1,
   "id": "19b7ea23",
   "metadata": {
    "id": "19b7ea23"
   },
   "outputs": [],
   "source": [
    "import sys\n",
    "sys.path.append('..')\n",
    "\n",
    "from my_package.data_cleaning import *\n",
    "from my_package.modeling import *\n",
    "from my_package.preprocessing import *\n",
    "from my_package.nn_modeling import *"
   ]
  },
  {
   "cell_type": "markdown",
   "id": "3ec568e9",
   "metadata": {
    "id": "3ec568e9"
   },
   "source": [
    "# Splitting the data"
   ]
  },
  {
   "cell_type": "code",
   "execution_count": 2,
   "id": "055ff280",
   "metadata": {
    "id": "055ff280"
   },
   "outputs": [],
   "source": [
    "def split_data(df,criteria='random'):\n",
    "    X = df.drop(['fraud_bool'], axis=1)\n",
    "    y = df['fraud_bool']\n",
    "    if criteria=='paper':\n",
    "\n",
    "        # Train test split by 'month', month 0-5 are train, 6-7 are test data as proposed in the paper\n",
    "        X_train = X[X['month']<6]\n",
    "        X_test = X[X['month']>=6]\n",
    "        y_train = y[X['month']<6]\n",
    "        y_test = y[X['month']>=6]\n",
    "\n",
    "\n",
    "    elif criteria=='random':\n",
    "        X_train, X_test, y_train, y_test = train_test_split(X, y, test_size=0.2, random_state=42)\n",
    "\n",
    "    elif criteria=='stratify':\n",
    "\n",
    "        X_train, X_test, y_train, y_test = train_test_split(X, y,stratify=y, test_size=0.2, random_state=42)\n",
    "\n",
    "    X_train.drop('month', axis=1, inplace=True)\n",
    "    X_test.drop('month', axis=1, inplace=True)\n",
    "    return X_train, X_test, y_train, y_test"
   ]
  },
  {
   "cell_type": "markdown",
   "id": "3143e44c",
   "metadata": {
    "id": "3143e44c"
   },
   "source": [
    "# reading the data"
   ]
  },
  {
   "cell_type": "code",
   "execution_count": 3,
   "id": "9ed0f7e1",
   "metadata": {
    "id": "9ed0f7e1"
   },
   "outputs": [],
   "source": [
    "df=data_cleaning('Base.csv').get_data()"
   ]
  },
  {
   "cell_type": "code",
   "execution_count": 4,
   "id": "1fef7d6f",
   "metadata": {
    "id": "1fef7d6f"
   },
   "outputs": [],
   "source": [
    "# split the data\n",
    "X_train, X_test, y_train, y_test=split_data(df,criteria= 'paper')"
   ]
  },
  {
   "cell_type": "markdown",
   "id": "4e0fe857",
   "metadata": {
    "id": "4e0fe857"
   },
   "source": [
    "# getting the groups:"
   ]
  },
  {
   "cell_type": "code",
   "execution_count": 5,
   "id": "f664bf91",
   "metadata": {
    "id": "f664bf91"
   },
   "outputs": [],
   "source": [
    "train_groups=(X_train[\"customer_age\"] > 50).map({True: \">50\", False: \"<=50\"})\n",
    "test_groups=(X_test[\"customer_age\"] > 50).map({True: \">50\", False: \"<=50\"})"
   ]
  },
  {
   "cell_type": "markdown",
   "id": "d6ab8b22",
   "metadata": {
    "id": "d6ab8b22"
   },
   "source": [
    "# start the preprocessing"
   ]
  },
  {
   "cell_type": "code",
   "execution_count": 6,
   "id": "3360351f",
   "metadata": {
    "id": "3360351f"
   },
   "outputs": [],
   "source": [
    "data = preprocessing(X_train, y_train)"
   ]
  },
  {
   "cell_type": "markdown",
   "id": "e105813e",
   "metadata": {
    "id": "e105813e"
   },
   "source": [
    "# Scaling numerical features:"
   ]
  },
  {
   "cell_type": "code",
   "execution_count": 7,
   "id": "f65e09eb",
   "metadata": {
    "id": "f65e09eb"
   },
   "outputs": [],
   "source": [
    "scalers = {}\n",
    "for column in X_train.select_dtypes(include=['int','float']):\n",
    "    m,scaler=data.scale_data('standard',column)\n",
    "    scalers[column] = scaler"
   ]
  },
  {
   "cell_type": "code",
   "execution_count": 8,
   "id": "b47a06ad",
   "metadata": {
    "id": "b47a06ad"
   },
   "outputs": [],
   "source": [
    "# apply the same scaling on the testset\n",
    "for column in X_test.select_dtypes(include=['int','float']):\n",
    "    X_test[column] = scalers[column].transform(X_test[[column]])"
   ]
  },
  {
   "cell_type": "markdown",
   "id": "955010f2",
   "metadata": {
    "id": "955010f2"
   },
   "source": [
    "# encode the categorical features"
   ]
  },
  {
   "cell_type": "code",
   "execution_count": 9,
   "id": "c2f5f488",
   "metadata": {
    "id": "c2f5f488"
   },
   "outputs": [],
   "source": [
    "encoders = {}\n",
    "for column in X_train.select_dtypes(include=['category','object']):\n",
    "    _, encoder = data.encode_categorical_features(column , encoding_type= 'one-hot')\n",
    "    encoders[column] = encoder"
   ]
  },
  {
   "cell_type": "code",
   "execution_count": 10,
   "id": "e8dde1fa",
   "metadata": {
    "id": "e8dde1fa"
   },
   "outputs": [],
   "source": [
    "# apply the encoding on the testset\n",
    "for column in X_test.select_dtypes(include=['object','category']).columns:\n",
    "    ohe=encoders[column]\n",
    "    encoded_col = pd.DataFrame(ohe.transform(X_test[column].values.reshape(-1, 1)).toarray(),index=X_test.index)\n",
    "    encoded_col.columns = [column + '_' + str(val) for val in ohe.categories_[0]]\n",
    "    X_test = pd.concat([X_test, encoded_col], axis=1)\n",
    "    X_test.drop(columns=column, inplace=True,axis=1)"
   ]
  },
  {
   "cell_type": "code",
   "execution_count": 11,
   "id": "0d162ab5",
   "metadata": {
    "id": "0d162ab5"
   },
   "outputs": [],
   "source": [
    "# arrange the column names according to the concat data\n",
    "X_test=X_test[data.concat_data().columns]"
   ]
  },
  {
   "cell_type": "code",
   "execution_count": 12,
   "id": "b6b3ae4d",
   "metadata": {
    "id": "b6b3ae4d"
   },
   "outputs": [],
   "source": [
    "X_train,y_train=data.get_data()"
   ]
  },
  {
   "cell_type": "markdown",
   "id": "43a490d7",
   "metadata": {
    "id": "43a490d7"
   },
   "source": [
    "# modeling : training and evaluation"
   ]
  },
  {
   "cell_type": "code",
   "execution_count": 13,
   "id": "a17bd5ad",
   "metadata": {
    "id": "a17bd5ad"
   },
   "outputs": [],
   "source": [
    "experiment=modeling(X_train,X_test,y_train,y_test,train_groups,test_groups,name = 'catboost')"
   ]
  },
  {
   "cell_type": "code",
   "execution_count": 33,
   "id": "a1336506",
   "metadata": {
    "id": "a1336506"
   },
   "outputs": [],
   "source": [
    "from catboost import CatBoostClassifier\n",
    "\n",
    "# Define the CatBoost classifier\n",
    "catboost_model = CatBoostClassifier()\n",
    "\n",
    "# Define the hyperparameter grid for RandomizedSearchCV\n",
    "param_grid = {\n",
    "    'iterations': np.arange(100, 1000, 100),  # Number of boosting iterations\n",
    "    'depth': np.arange(3, 9),               # Depth of the trees\n",
    "    'learning_rate': [0.01, 0.05, 0.1], # Learning rate\n",
    "    'l2_leaf_reg': [1, 3, 5],             # L2 regularization coefficient\n",
    "    'class_weights':[{0:1,1:80}],\n",
    "    'verbose':[0]\n",
    "}"
   ]
  },
  {
   "cell_type": "code",
   "execution_count": 34,
   "id": "720d63da",
   "metadata": {
    "colab": {
     "base_uri": "https://localhost:8080/",
     "height": 1000
    },
    "id": "720d63da",
    "outputId": "de807ce9-988a-4a7f-86ef-811d57c86984"
   },
   "outputs": [
    {
     "name": "stdout",
     "output_type": "stream",
     "text": [
      "Fitting 1 folds for each of 10 candidates, totalling 10 fits\n",
      "Best hyperparameters: {'verbose': 0, 'learning_rate': 0.05, 'l2_leaf_reg': 5, 'iterations': 400, 'depth': 5, 'class_weights': {0: 1, 1: 80}}\n",
      "Best estimator: <catboost.core.CatBoostClassifier object at 0x0000029A8E658520>\n",
      "Best score: 0.899535678672085\n",
      "AUC: 0.8956503353169991\n",
      "TPR:  55.14% \n",
      "FPR:  5.0% \n",
      "Threshold:  0.76\n",
      "Predictive Equality:  86.27%\n"
     ]
    },
    {
     "data": {
      "image/png": "[encoded data removed]",
      "text/plain": [
       "<Figure size 1000x400 with 2 Axes>"
      ]
     },
     "metadata": {},
     "output_type": "display_data"
    },
    {
     "name": "stdout",
     "output_type": "stream",
     "text": [
      "              precision    recall  f1-score   support\n",
      "\n",
      "           0       1.00      0.84      0.91    202133\n",
      "           1       0.07      0.79      0.12      2878\n",
      "\n",
      "    accuracy                           0.84    205011\n",
      "   macro avg       0.53      0.81      0.52    205011\n",
      "weighted avg       0.98      0.84      0.90    205011\n",
      "\n"
     ]
    }
   ],
   "source": [
    "experiment.train(catboost_model,param_grid=param_grid,search_type='random')"
   ]
  },
  {
   "cell_type": "code",
   "execution_count": 35,
   "id": "6050ccae",
   "metadata": {
    "colab": {
     "base_uri": "https://localhost:8080/"
    },
    "id": "6050ccae",
    "outputId": "636d5842-9800-426a-a2ff-3de39196d328"
   },
   "outputs": [
    {
     "name": "stdout",
     "output_type": "stream",
     "text": [
      "Model saved at: catboost_model.pkl\n"
     ]
    }
   ],
   "source": [
    "# Save the best model\n",
    "saved_model_path = experiment.save_model('catboost_model.pkl')\n",
    "print(\"Model saved at:\", saved_model_path)"
   ]
  },
  {
   "cell_type": "code",
   "execution_count": 47,
   "id": "TQEQzfTtaxwW",
   "metadata": {
    "id": "TQEQzfTtaxwW"
   },
   "outputs": [],
   "source": [
    "import pickle\n",
    "\n",
    "# Load the model from the pickle file\n",
    "with open('catboost_model.pkl', 'rb') as file:\n",
    "    loaded_model = pickle.load(file)"
   ]
  },
  {
   "cell_type": "markdown",
   "id": "1326c577",
   "metadata": {},
   "source": [
    "# after the new threshold"
   ]
  },
  {
   "cell_type": "code",
   "execution_count": 51,
   "id": "2344977b",
   "metadata": {},
   "outputs": [],
   "source": [
    "y_pred=loaded_model.predict_proba(X_test)[:,1]"
   ]
  },
  {
   "cell_type": "code",
   "execution_count": 52,
   "id": "2261f20f",
   "metadata": {},
   "outputs": [],
   "source": [
    "y_pred_new_threshold = np.where(y_pred >= 0.76, 1, 0)"
   ]
  },
  {
   "cell_type": "code",
   "execution_count": 53,
   "id": "2ecb9c81",
   "metadata": {},
   "outputs": [
    {
     "name": "stdout",
     "output_type": "stream",
     "text": [
      "              precision    recall  f1-score   support\n",
      "\n",
      "           0       0.99      0.95      0.97    202133\n",
      "           1       0.14      0.55      0.22      2878\n",
      "\n",
      "    accuracy                           0.94    205011\n",
      "   macro avg       0.56      0.75      0.59    205011\n",
      "weighted avg       0.98      0.94      0.96    205011\n",
      "\n"
     ]
    }
   ],
   "source": [
    "print(classification_report(y_test,y_pred_new_threshold))"
   ]
  },
  {
   "cell_type": "code",
   "execution_count": 54,
   "id": "731c6292",
   "metadata": {},
   "outputs": [
    {
     "name": "stdout",
     "output_type": "stream",
     "text": [
      "[[191918  10215]\n",
      " [  1283   1595]]\n"
     ]
    }
   ],
   "source": [
    "print(confusion_matrix(y_test,y_pred_new_threshold))"
   ]
  },
  {
   "cell_type": "markdown",
   "id": "9012c0e5",
   "metadata": {},
   "source": [
    "- if we increase the threshold because we care about both the classes"
   ]
  },
  {
   "cell_type": "code",
   "execution_count": 56,
   "id": "e524601e",
   "metadata": {},
   "outputs": [
    {
     "name": "stdout",
     "output_type": "stream",
     "text": [
      "              precision    recall  f1-score   support\n",
      "\n",
      "           0       0.99      0.96      0.98    202133\n",
      "           1       0.16      0.48      0.25      2878\n",
      "\n",
      "    accuracy                           0.96    205011\n",
      "   macro avg       0.58      0.72      0.61    205011\n",
      "weighted avg       0.98      0.96      0.97    205011\n",
      "\n",
      "[[195039   7094]\n",
      " [  1483   1395]]\n"
     ]
    }
   ],
   "source": [
    "y_pred_new_threshold = np.where(y_pred >= 0.81, 1, 0)\n",
    "print(classification_report(y_test,y_pred_new_threshold))\n",
    "print(confusion_matrix(y_test,y_pred_new_threshold))"
   ]
  }
 ],
 "metadata": {
  "colab": {
   "provenance": []
  },
  "kernelspec": {
   "display_name": "Python 3 (ipykernel)",
   "language": "python",
   "name": "python3"
  },
  "language_info": {
   "codemirror_mode": {
    "name": "ipython",
    "version": 3
   },
   "file_extension": ".py",
   "mimetype": "text/x-python",
   "name": "python",
   "nbconvert_exporter": "python",
   "pygments_lexer": "ipython3",
   "version": "3.8.16"
  }
 },
 "nbformat": 4,
 "nbformat_minor": 5
}
