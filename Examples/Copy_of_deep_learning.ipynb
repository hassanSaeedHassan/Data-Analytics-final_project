{
  "cells": [
    {
      "cell_type": "markdown",
      "source": [
        "# nn_modeling class"
      ],
      "metadata": {
        "id": "206DsizamiT7"
      },
      "id": "206DsizamiT7"
    },
    {
      "cell_type": "code",
      "source": [
        "#%%writefile nn_modeling.py\n",
        "from sklearn.metrics import accuracy_score\n",
        "from sklearn.metrics import r2_score\n",
        "from sklearn.metrics import ConfusionMatrixDisplay\n",
        "# imports for neural network\n",
        "import tensorflow as tf\n",
        "from tensorflow import keras\n",
        "from tensorflow.keras import backend as K\n",
        "\n",
        "\n",
        "class nn_modeling:\n",
        "\n",
        "    def __init__(self,model, X_train,X_test,y_train,y_test,group_train,group_test):\n",
        "        self.X_train=X_train\n",
        "        self.X_test=X_test\n",
        "        self.y_train=y_train\n",
        "        self.y_test=y_test\n",
        "        self.group_train=group_train\n",
        "        self.group_test=group_test\n",
        "        self.model=model\n",
        "        self.y_pred = None\n",
        "\n",
        "    # Combine the compilation and training\n",
        "    def compile_and_train(self, lr=1e-2):\n",
        "        self.compile_model(lr)\n",
        "        return self.train_model()\n",
        "\n",
        "    # compile a model using these specific metrics\n",
        "    def compile_model(self, lr):\n",
        "        metrics = [\n",
        "            keras.metrics.FalseNegatives(name=\"fn\"),\n",
        "            keras.metrics.FalsePositives(name=\"fp\"),\n",
        "            keras.metrics.TrueNegatives(name=\"tn\"),\n",
        "            keras.metrics.TruePositives(name=\"tp\"),\n",
        "            keras.metrics.Precision(name=\"precision\"),\n",
        "            keras.metrics.Recall(name=\"recall\"),\n",
        "            self.f1,\n",
        "        ]\n",
        "\n",
        "        self.model.compile(\n",
        "            optimizer=keras.optimizers.Adam(lr),\n",
        "            loss=\"binary_crossentropy\",\n",
        "            metrics=metrics\n",
        "        )\n",
        "\n",
        "    def train_model(self):\n",
        "        # Use EarlyStopping to prevent overfitting\n",
        "        early_stopping = keras.callbacks.EarlyStopping(\n",
        "            patience=10,\n",
        "            min_delta=0.001,\n",
        "            restore_best_weights=True,\n",
        "            mode='max'\n",
        "        )\n",
        "\n",
        "        # Calculate the class wheights for the model, improves predictive equality\n",
        "        class_weights = {0: 1., 1: np.sum(self.y_train == 0) / np.sum(self.y_train == 1)}\n",
        "\n",
        "        hist = self.model.fit(\n",
        "                        self.X_train, self.y_train,\n",
        "                        class_weight=class_weights,batch_size=512,\n",
        "                        epochs=100, # set lower if you only want to train for short period to get approximat results\n",
        "                        callbacks=[early_stopping],\n",
        "                        verbose=1,\n",
        "                        validation_split=0.1 # Use 10% of training set as validation for EarlyStopping\n",
        "        )\n",
        "        # return the training history for possible visualization\n",
        "        return hist\n",
        "\n",
        "    # Evaluate a model by passing its output into the evaluate-function\n",
        "    def score_keras_model(self):\n",
        "        # Score the test set\n",
        "        predictions = self.model.predict(self.X_test).flatten()\n",
        "        self.y_pred = predictions\n",
        "        self.plot_auc_accuracy_nn()\n",
        "\n",
        "    def plot_auc_accuracy_nn(self, FIXED_FPR=0.05):\n",
        "        # Calculating AUC and plotting the ROC Curve\n",
        "        fpr, tpr, thresholds = roc_curve(self.y_test, self.y_pred)\n",
        "        roc_auc = roc_auc_score(self.y_test, self.y_pred)\n",
        "        fig, axes = plt.subplots(nrows=1, ncols=2, figsize=(10, 4))\n",
        "        axes[0].plot(fpr, tpr, color='purple', label='AUC = %0.2f' % roc_auc)\n",
        "        axes[0].plot([0, 1], [0, 1], color='magenta', linestyle='--')\n",
        "        axes[0].set_xlabel('False Positive Rate')\n",
        "        axes[0].set_ylabel('True Positive Rate')\n",
        "        axes[0].set_title('Receiver Operating Characteristic (ROC) Curve')\n",
        "\n",
        "        # Calculating Accuracy and plotting it\n",
        "        tpr_fixed_fpr = tpr[fpr < FIXED_FPR][-1]\n",
        "        fpr_fixed_fpr = fpr[fpr < FIXED_FPR][-1]\n",
        "        threshold_fixed_fpr = thresholds[fpr < FIXED_FPR][-1]\n",
        "\n",
        "        print(\"AUC:\", roc_auc)\n",
        "        to_pct = lambda x: str(round(x, 4) * 100) + \"%\"\n",
        "        print(\"TPR: \", to_pct(tpr_fixed_fpr), \"\\nFPR: \", to_pct(fpr_fixed_fpr), \"\\nThreshold: \", round(threshold_fixed_fpr, 2))\n",
        "\n",
        "        # Calling get_fairness_metrics to calculate predictive equality\n",
        "        predictive_equality, disparities_df = self.get_fairness_metrics_nn(self.group_test,self.y_test,self.y_pred, FIXED_FPR)\n",
        "        print(\"Predictive Equality: \", to_pct(predictive_equality))\n",
        "\n",
        "        # extract the predicted class labels\n",
        "        thresh = round(threshold_fixed_fpr, 2)\n",
        "        predictions = np.where(self.y_pred > thresh, 1, 0) # or use the threshold instead of 0.5?\n",
        "\n",
        "        accuracy = accuracy_score(y_test, predictions)\n",
        "        axes[1].bar(['Accuracy'], [accuracy], color=['purple'])\n",
        "        axes[1].set_ylim([0, 1.5])\n",
        "        axes[1].set_ylabel('Accuracy')\n",
        "        axes[1].set_title('Accuracy')\n",
        "        axes[1].set_xticks([])\n",
        "        axes[1].tick_params(axis='y', labelsize=10)\n",
        "\n",
        "        # Add accuracy value as text label on the accuracy bar plot\n",
        "        axes[1].text(0, accuracy + 0.05, '{:.2f}'.format(accuracy), horizontalalignment='center', fontsize=15)\n",
        "        # Adjusting the layout of the subplots and displaying the plot\n",
        "        fig.tight_layout()\n",
        "        plt.show()\n",
        "\n",
        "        #ConfusionMatrixDisplay.from_predictions(y_test, predictions)\n",
        "        self.plot_confmat_classreport_nn(predictions)\n",
        "        print(classification_report(self.y_test, predictions))\n",
        "\n",
        "\n",
        "    def get_fairness_metrics_nn(self,groups,y_true, y_pred,FIXED_FPR=0.05):\n",
        "        labels = self.y_test\n",
        "        groups = self.group_test\n",
        "        g = Group()\n",
        "        aequitas_df = pd.DataFrame(\n",
        "            {\"score\": y_pred,\n",
        "             \"label_value\": y_true,\n",
        "             \"group\": groups}\n",
        "        )\n",
        "\n",
        "        # Use aequitas to compute confusion matrix metrics for every group.\n",
        "        disparities_df = g.get_crosstabs(aequitas_df, score_thresholds={\"score_val\": [FIXED_FPR]})[0]\n",
        "\n",
        "        # Predictive equality is the differences in FPR (we use ratios in the paper)\n",
        "        predictive_equality = disparities_df[\"fpr\"].min() / disparities_df[\"fpr\"].max()\n",
        "        return predictive_equality, disparities_df\n",
        "\n",
        "\n",
        "    def plot_confmat_classreport_nn(self, predictions):\n",
        "\n",
        "        # Calculating Confusion Matrix and plotting it\n",
        "        CM = confusion_matrix(self.y_test, predictions)\n",
        "        fig, axes = plt.subplots(nrows=1, ncols=1, figsize=(6, 4))\n",
        "        sns.heatmap(CM, annot=True, fmt='g', cmap='Pastel1', ax=axes)\n",
        "        axes.set_xlabel('Predicted')\n",
        "        axes.set_ylabel('Truth')\n",
        "        axes.set_title('Confusion Matrix')\n",
        "\n",
        "        # Adjusting the layout of the subplots and displaying the plot\n",
        "        fig.tight_layout()\n",
        "        plt.show()\n",
        "\n",
        "    def f1(self, y_true, y_pred): #taken from old keras source code\n",
        "        true_positives = K.sum(K.round(K.clip(y_true * y_pred, 0, 1)))\n",
        "        possible_positives = K.sum(K.round(K.clip(y_true, 0, 1)))\n",
        "        predicted_positives = K.sum(K.round(K.clip(y_pred, 0, 1)))\n",
        "        precision = true_positives / (predicted_positives + K.epsilon())\n",
        "        recall = true_positives / (possible_positives + K.epsilon())\n",
        "        f1_val = 2*(precision*recall)/(precision+recall+K.epsilon())\n",
        "        return f1_val\n",
        "\n",
        "    # --- Two currently unused metrics ---\n",
        "    def recall(self, y_true, y_pred):\n",
        "        true_positives = K.sum(K.round(K.clip(y_true * y_pred, 0, 1)))\n",
        "        possible_positives = K.sum(K.round(K.clip(y_true, 0, 1)))\n",
        "        recall = true_positives / (possible_positives + K.epsilon())\n",
        "        return recall\n",
        "\n",
        "    def focal_loss(self, gamma=2., alpha=.25):\n",
        "        def focal_loss_fixed(y_true, y_pred):\n",
        "            pt_1 = tf.where(tf.equal(y_true, 1), y_pred, tf.ones_like(y_pred))\n",
        "            pt_0 = tf.where(tf.equal(y_true, 0), y_pred, tf.zeros_like(y_pred))\n",
        "            return -K.mean(alpha * K.pow(1. - pt_1, gamma) * K.log(pt_1)) - K.mean((1 - alpha) * K.pow(pt_0, gamma) * K.log(1. - pt_0))\n",
        "        return focal_loss_fixed\n",
        "\n",
        "    def save_model(self,filename):\n",
        "        # Save the model to disk using pickle\n",
        "        with open(filename, 'wb') as f:\n",
        "            pickle.dump(self.model, f)\n",
        "\n",
        "        # Return the path to the saved model file\n",
        "        return filename\n"
      ],
      "metadata": {
        "colab": {
          "base_uri": "https://localhost:8080/"
        },
        "id": "qfkl1xX6LkED",
        "outputId": "7e4e2117-71ee-4823-a2ed-0c65957be785"
      },
      "id": "qfkl1xX6LkED",
      "execution_count": 26,
      "outputs": [
        {
          "output_type": "stream",
          "name": "stdout",
          "text": [
            "Writing nn_modeling.py\n"
          ]
        }
      ]
    },
    {
      "cell_type": "markdown",
      "source": [
        "# Colab Setup"
      ],
      "metadata": {
        "id": "5uXupsiCM3TW"
      },
      "id": "5uXupsiCM3TW"
    },
    {
      "cell_type": "markdown",
      "source": [
        "Installing Needed Requirements"
      ],
      "metadata": {
        "id": "hqMmFHXgN1d5"
      },
      "id": "hqMmFHXgN1d5"
    },
    {
      "cell_type": "code",
      "source": [
        "! pip install -r requirements.txt"
      ],
      "metadata": {
        "colab": {
          "base_uri": "https://localhost:8080/",
          "height": 1000
        },
        "id": "H0etuFwbM63I",
        "outputId": "13513a91-4dc7-4f1c-b34d-f72de175d3ad"
      },
      "id": "H0etuFwbM63I",
      "execution_count": 1,
      "outputs": [
        {
          "output_type": "stream",
          "name": "stdout",
          "text": [
            "Collecting aequitas_lite==0.43.5 (from -r requirements.txt (line 1))\n",
            "  Downloading aequitas_lite-0.43.5-py3-none-any.whl (69 kB)\n",
            "\u001b[?25l     \u001b[90m━━━━━━━━━━━━━━━━━━━━━━━━━━━━━━━━━━━━━━━━\u001b[0m \u001b[32m0.0/69.1 kB\u001b[0m \u001b[31m?\u001b[0m eta \u001b[36m-:--:--\u001b[0m\r\u001b[2K     \u001b[90m━━━━━━━━━━━━━━━━━━━━━━━━━━━━━━━━━━━━━━━━\u001b[0m \u001b[32m69.1/69.1 kB\u001b[0m \u001b[31m2.2 MB/s\u001b[0m eta \u001b[36m0:00:00\u001b[0m\n",
            "\u001b[?25hCollecting association_metrics==0.0.1 (from -r requirements.txt (line 2))\n",
            "  Downloading association-metrics-0.0.1.tar.gz (3.2 kB)\n",
            "  Preparing metadata (setup.py) ... \u001b[?25l\u001b[?25hdone\n",
            "Requirement already satisfied: imbalanced_learn==0.10.1 in /usr/local/lib/python3.10/dist-packages (from -r requirements.txt (line 3)) (0.10.1)\n",
            "Collecting imblearn==0.0 (from -r requirements.txt (line 4))\n",
            "  Downloading imblearn-0.0-py2.py3-none-any.whl (1.9 kB)\n",
            "Collecting matplotlib==3.6.2 (from -r requirements.txt (line 5))\n",
            "  Downloading matplotlib-3.6.2-cp310-cp310-manylinux_2_17_x86_64.manylinux2014_x86_64.whl (11.8 MB)\n",
            "\u001b[2K     \u001b[90m━━━━━━━━━━━━━━━━━━━━━━━━━━━━━━━━━━━━━━━━\u001b[0m \u001b[32m11.8/11.8 MB\u001b[0m \u001b[31m59.4 MB/s\u001b[0m eta \u001b[36m0:00:00\u001b[0m\n",
            "\u001b[?25hRequirement already satisfied: missingno==0.5.2 in /usr/local/lib/python3.10/dist-packages (from -r requirements.txt (line 6)) (0.5.2)\n",
            "Collecting numpy==1.23.5 (from -r requirements.txt (line 7))\n",
            "  Downloading numpy-1.23.5-cp310-cp310-manylinux_2_17_x86_64.manylinux2014_x86_64.whl (17.1 MB)\n",
            "\u001b[2K     \u001b[90m━━━━━━━━━━━━━━━━━━━━━━━━━━━━━━━━━━━━━━━━\u001b[0m \u001b[32m17.1/17.1 MB\u001b[0m \u001b[31m30.5 MB/s\u001b[0m eta \u001b[36m0:00:00\u001b[0m\n",
            "\u001b[?25hCollecting pandas==1.5.2 (from -r requirements.txt (line 8))\n",
            "  Downloading pandas-1.5.2-cp310-cp310-manylinux_2_17_x86_64.manylinux2014_x86_64.whl (12.1 MB)\n",
            "\u001b[2K     \u001b[90m━━━━━━━━━━━━━━━━━━━━━━━━━━━━━━━━━━━━━━━━\u001b[0m \u001b[32m12.1/12.1 MB\u001b[0m \u001b[31m23.4 MB/s\u001b[0m eta \u001b[36m0:00:00\u001b[0m\n",
            "\u001b[?25hCollecting pywebio==1.8.2 (from -r requirements.txt (line 9))\n",
            "  Downloading pywebio-1.8.2.tar.gz (495 kB)\n",
            "\u001b[2K     \u001b[90m━━━━━━━━━━━━━━━━━━━━━━━━━━━━━━━━━━━━━━\u001b[0m \u001b[32m495.9/495.9 kB\u001b[0m \u001b[31m45.1 MB/s\u001b[0m eta \u001b[36m0:00:00\u001b[0m\n",
            "\u001b[?25h  Preparing metadata (setup.py) ... \u001b[?25l\u001b[?25hdone\n",
            "Collecting scikit_learn==1.2.0 (from -r requirements.txt (line 10))\n",
            "  Downloading scikit_learn-1.2.0-cp310-cp310-manylinux_2_17_x86_64.manylinux2014_x86_64.whl (9.5 MB)\n",
            "\u001b[2K     \u001b[90m━━━━━━━━━━━━━━━━━━━━━━━━━━━━━━━━━━━━━━━━\u001b[0m \u001b[32m9.5/9.5 MB\u001b[0m \u001b[31m58.6 MB/s\u001b[0m eta \u001b[36m0:00:00\u001b[0m\n",
            "\u001b[?25hCollecting scipy==1.9.3 (from -r requirements.txt (line 11))\n",
            "  Downloading scipy-1.9.3-cp310-cp310-manylinux_2_17_x86_64.manylinux2014_x86_64.whl (33.7 MB)\n",
            "\u001b[2K     \u001b[90m━━━━━━━━━━━━━━━━━━━━━━━━━━━━━━━━━━━━━━━━\u001b[0m \u001b[32m33.7/33.7 MB\u001b[0m \u001b[31m11.8 MB/s\u001b[0m eta \u001b[36m0:00:00\u001b[0m\n",
            "\u001b[?25hRequirement already satisfied: seaborn==0.12.2 in /usr/local/lib/python3.10/dist-packages (from -r requirements.txt (line 12)) (0.12.2)\n",
            "Collecting xgboost==0.90 (from -r requirements.txt (line 13))\n",
            "  Downloading xgboost-0.90-py2.py3-none-manylinux1_x86_64.whl (142.8 MB)\n",
            "\u001b[2K     \u001b[90m━━━━━━━━━━━━━━━━━━━━━━━━━━━━━━━━━━━━━━━\u001b[0m \u001b[32m142.8/142.8 MB\u001b[0m \u001b[31m6.4 MB/s\u001b[0m eta \u001b[36m0:00:00\u001b[0m\n",
            "\u001b[?25hRequirement already satisfied: yellowbrick==1.5 in /usr/local/lib/python3.10/dist-packages (from -r requirements.txt (line 14)) (1.5)\n",
            "Requirement already satisfied: altair>=4.1.0 in /usr/local/lib/python3.10/dist-packages (from aequitas_lite==0.43.5->-r requirements.txt (line 1)) (4.2.2)\n",
            "Collecting millify==0.1.1 (from aequitas_lite==0.43.5->-r requirements.txt (line 1))\n",
            "  Downloading millify-0.1.1.tar.gz (1.2 kB)\n",
            "  Preparing metadata (setup.py) ... \u001b[?25l\u001b[?25hdone\n",
            "Requirement already satisfied: joblib>=1.1.1 in /usr/local/lib/python3.10/dist-packages (from imbalanced_learn==0.10.1->-r requirements.txt (line 3)) (1.3.1)\n",
            "Requirement already satisfied: threadpoolctl>=2.0.0 in /usr/local/lib/python3.10/dist-packages (from imbalanced_learn==0.10.1->-r requirements.txt (line 3)) (3.2.0)\n",
            "Requirement already satisfied: contourpy>=1.0.1 in /usr/local/lib/python3.10/dist-packages (from matplotlib==3.6.2->-r requirements.txt (line 5)) (1.1.0)\n",
            "Requirement already satisfied: cycler>=0.10 in /usr/local/lib/python3.10/dist-packages (from matplotlib==3.6.2->-r requirements.txt (line 5)) (0.11.0)\n",
            "Requirement already satisfied: fonttools>=4.22.0 in /usr/local/lib/python3.10/dist-packages (from matplotlib==3.6.2->-r requirements.txt (line 5)) (4.41.0)\n",
            "Requirement already satisfied: kiwisolver>=1.0.1 in /usr/local/lib/python3.10/dist-packages (from matplotlib==3.6.2->-r requirements.txt (line 5)) (1.4.4)\n",
            "Requirement already satisfied: packaging>=20.0 in /usr/local/lib/python3.10/dist-packages (from matplotlib==3.6.2->-r requirements.txt (line 5)) (23.1)\n",
            "Requirement already satisfied: pillow>=6.2.0 in /usr/local/lib/python3.10/dist-packages (from matplotlib==3.6.2->-r requirements.txt (line 5)) (8.4.0)\n",
            "Requirement already satisfied: pyparsing>=2.2.1 in /usr/local/lib/python3.10/dist-packages (from matplotlib==3.6.2->-r requirements.txt (line 5)) (3.1.0)\n",
            "Requirement already satisfied: python-dateutil>=2.7 in /usr/local/lib/python3.10/dist-packages (from matplotlib==3.6.2->-r requirements.txt (line 5)) (2.8.2)\n",
            "Requirement already satisfied: pytz>=2020.1 in /usr/local/lib/python3.10/dist-packages (from pandas==1.5.2->-r requirements.txt (line 8)) (2022.7.1)\n",
            "Requirement already satisfied: tornado>=5.0 in /usr/local/lib/python3.10/dist-packages (from pywebio==1.8.2->-r requirements.txt (line 9)) (6.3.1)\n",
            "Collecting user-agents (from pywebio==1.8.2->-r requirements.txt (line 9))\n",
            "  Downloading user_agents-2.2.0-py3-none-any.whl (9.6 kB)\n",
            "Requirement already satisfied: entrypoints in /usr/local/lib/python3.10/dist-packages (from altair>=4.1.0->aequitas_lite==0.43.5->-r requirements.txt (line 1)) (0.4)\n",
            "Requirement already satisfied: jinja2 in /usr/local/lib/python3.10/dist-packages (from altair>=4.1.0->aequitas_lite==0.43.5->-r requirements.txt (line 1)) (3.1.2)\n",
            "Requirement already satisfied: jsonschema>=3.0 in /usr/local/lib/python3.10/dist-packages (from altair>=4.1.0->aequitas_lite==0.43.5->-r requirements.txt (line 1)) (4.3.3)\n",
            "Requirement already satisfied: toolz in /usr/local/lib/python3.10/dist-packages (from altair>=4.1.0->aequitas_lite==0.43.5->-r requirements.txt (line 1)) (0.12.0)\n",
            "Requirement already satisfied: six>=1.5 in /usr/local/lib/python3.10/dist-packages (from python-dateutil>=2.7->matplotlib==3.6.2->-r requirements.txt (line 5)) (1.16.0)\n",
            "Collecting ua-parser>=0.10.0 (from user-agents->pywebio==1.8.2->-r requirements.txt (line 9))\n",
            "  Downloading ua_parser-0.18.0-py2.py3-none-any.whl (38 kB)\n",
            "Requirement already satisfied: attrs>=17.4.0 in /usr/local/lib/python3.10/dist-packages (from jsonschema>=3.0->altair>=4.1.0->aequitas_lite==0.43.5->-r requirements.txt (line 1)) (23.1.0)\n",
            "Requirement already satisfied: pyrsistent!=0.17.0,!=0.17.1,!=0.17.2,>=0.14.0 in /usr/local/lib/python3.10/dist-packages (from jsonschema>=3.0->altair>=4.1.0->aequitas_lite==0.43.5->-r requirements.txt (line 1)) (0.19.3)\n",
            "Requirement already satisfied: MarkupSafe>=2.0 in /usr/local/lib/python3.10/dist-packages (from jinja2->altair>=4.1.0->aequitas_lite==0.43.5->-r requirements.txt (line 1)) (2.1.3)\n",
            "Building wheels for collected packages: association_metrics, pywebio, millify\n",
            "  Building wheel for association_metrics (setup.py) ... \u001b[?25l\u001b[?25hdone\n",
            "  Created wheel for association_metrics: filename=association_metrics-0.0.1-py3-none-any.whl size=3930 sha256=7cf3ae533047e8257458025e7133de52414c0d1e5850bca1e1c6f2ff7de2471e\n",
            "  Stored in directory: /root/.cache/pip/wheels/01/47/5f/4360ef6988df6f1b0c1857cab43334269110160bd97b716936\n",
            "  Building wheel for pywebio (setup.py) ... \u001b[?25l\u001b[?25hdone\n",
            "  Created wheel for pywebio: filename=pywebio-1.8.2-py3-none-any.whl size=509093 sha256=12b4e59c5ba03589e014246b0a157af015f7f5ef5d4d17ef0143d562432376db\n",
            "  Stored in directory: /root/.cache/pip/wheels/e1/6c/90/0012cb7aa421926b5c5d42d0598d80462402106a3fdce89623\n",
            "  Building wheel for millify (setup.py) ... \u001b[?25l\u001b[?25hdone\n",
            "  Created wheel for millify: filename=millify-0.1.1-py3-none-any.whl size=1844 sha256=d8e8873640971073301dbc064c29cf68203ef1696da9b04d1298849c9891b28b\n",
            "  Stored in directory: /root/.cache/pip/wheels/67/8f/53/2759feac2e247ce89c1165c3ff12d484de7714a875ea3464f0\n",
            "Successfully built association_metrics pywebio millify\n",
            "Installing collected packages: ua-parser, millify, user-agents, numpy, association_metrics, scipy, pywebio, pandas, xgboost, scikit_learn, matplotlib, imblearn, aequitas_lite\n",
            "  Attempting uninstall: numpy\n",
            "    Found existing installation: numpy 1.22.4\n",
            "    Uninstalling numpy-1.22.4:\n",
            "      Successfully uninstalled numpy-1.22.4\n",
            "  Attempting uninstall: scipy\n",
            "    Found existing installation: scipy 1.10.1\n",
            "    Uninstalling scipy-1.10.1:\n",
            "      Successfully uninstalled scipy-1.10.1\n",
            "  Attempting uninstall: pandas\n",
            "    Found existing installation: pandas 1.5.3\n",
            "    Uninstalling pandas-1.5.3:\n",
            "      Successfully uninstalled pandas-1.5.3\n",
            "  Attempting uninstall: xgboost\n",
            "    Found existing installation: xgboost 1.7.6\n",
            "    Uninstalling xgboost-1.7.6:\n",
            "      Successfully uninstalled xgboost-1.7.6\n",
            "  Attempting uninstall: scikit_learn\n",
            "    Found existing installation: scikit-learn 1.2.2\n",
            "    Uninstalling scikit-learn-1.2.2:\n",
            "      Successfully uninstalled scikit-learn-1.2.2\n",
            "  Attempting uninstall: matplotlib\n",
            "    Found existing installation: matplotlib 3.7.1\n",
            "    Uninstalling matplotlib-3.7.1:\n",
            "      Successfully uninstalled matplotlib-3.7.1\n",
            "\u001b[31mERROR: pip's dependency resolver does not currently take into account all the packages that are installed. This behaviour is the source of the following dependency conflicts.\n",
            "google-colab 1.0.0 requires pandas==1.5.3, but you have pandas 1.5.2 which is incompatible.\u001b[0m\u001b[31m\n",
            "\u001b[0mSuccessfully installed aequitas_lite-0.43.5 association_metrics-0.0.1 imblearn-0.0 matplotlib-3.6.2 millify-0.1.1 numpy-1.23.5 pandas-1.5.2 pywebio-1.8.2 scikit_learn-1.2.0 scipy-1.9.3 ua-parser-0.18.0 user-agents-2.2.0 xgboost-0.90\n"
          ]
        },
        {
          "output_type": "display_data",
          "data": {
            "application/vnd.colab-display-data+json": {
              "pip_warning": {
                "packages": [
                  "matplotlib",
                  "mpl_toolkits",
                  "numpy"
                ]
              }
            }
          },
          "metadata": {}
        }
      ]
    },
    {
      "cell_type": "markdown",
      "source": [
        "Importing Data from Kaggle"
      ],
      "metadata": {
        "id": "LHuSn9L_Nw_C"
      },
      "id": "LHuSn9L_Nw_C"
    },
    {
      "cell_type": "code",
      "source": [
        "from google.colab import files\n",
        "files.upload()\n",
        "\n",
        "! pip install -q kaggle\n",
        "! mkdir ~/.kaggle # making new directory\n",
        "! cp kaggle.json ~/.kaggle/ # copying kaggle json file to the created directory\n",
        "! chmod 600 ~/.kaggle/kaggle.json # changing the permissions\n",
        "! kaggle datasets download -d sgpjesus/bank-account-fraud-dataset-neurips-2022 # downloading the dataset\n",
        "! mkdir data # making new directory on colab session to unzip the dataset in it\n",
        "! unzip -q bank-account-fraud-dataset-neurips-2022.zip -d data # unzipping the downloaded data"
      ],
      "metadata": {
        "colab": {
          "base_uri": "https://localhost:8080/",
          "height": 125
        },
        "id": "Z80scp6WM8bQ",
        "outputId": "8bddd8d1-7dae-4065-871b-86b89c7bfc3d"
      },
      "id": "Z80scp6WM8bQ",
      "execution_count": 1,
      "outputs": [
        {
          "output_type": "display_data",
          "data": {
            "text/plain": [
              "<IPython.core.display.HTML object>"
            ],
            "text/html": [
              "\n",
              "     <input type=\"file\" id=\"files-bdf853a4-9c61-4109-9237-6fe898a4daa2\" name=\"files[]\" multiple disabled\n",
              "        style=\"border:none\" />\n",
              "     <output id=\"result-bdf853a4-9c61-4109-9237-6fe898a4daa2\">\n",
              "      Upload widget is only available when the cell has been executed in the\n",
              "      current browser session. Please rerun this cell to enable.\n",
              "      </output>\n",
              "      <script>// Copyright 2017 Google LLC\n",
              "//\n",
              "// Licensed under the Apache License, Version 2.0 (the \"License\");\n",
              "// you may not use this file except in compliance with the License.\n",
              "// You may obtain a copy of the License at\n",
              "//\n",
              "//      http://www.apache.org/licenses/LICENSE-2.0\n",
              "//\n",
              "// Unless required by applicable law or agreed to in writing, software\n",
              "// distributed under the License is distributed on an \"AS IS\" BASIS,\n",
              "// WITHOUT WARRANTIES OR CONDITIONS OF ANY KIND, either express or implied.\n",
              "// See the License for the specific language governing permissions and\n",
              "// limitations under the License.\n",
              "\n",
              "/**\n",
              " * @fileoverview Helpers for google.colab Python module.\n",
              " */\n",
              "(function(scope) {\n",
              "function span(text, styleAttributes = {}) {\n",
              "  const element = document.createElement('span');\n",
              "  element.textContent = text;\n",
              "  for (const key of Object.keys(styleAttributes)) {\n",
              "    element.style[key] = styleAttributes[key];\n",
              "  }\n",
              "  return element;\n",
              "}\n",
              "\n",
              "// Max number of bytes which will be uploaded at a time.\n",
              "const MAX_PAYLOAD_SIZE = 100 * 1024;\n",
              "\n",
              "function _uploadFiles(inputId, outputId) {\n",
              "  const steps = uploadFilesStep(inputId, outputId);\n",
              "  const outputElement = document.getElementById(outputId);\n",
              "  // Cache steps on the outputElement to make it available for the next call\n",
              "  // to uploadFilesContinue from Python.\n",
              "  outputElement.steps = steps;\n",
              "\n",
              "  return _uploadFilesContinue(outputId);\n",
              "}\n",
              "\n",
              "// This is roughly an async generator (not supported in the browser yet),\n",
              "// where there are multiple asynchronous steps and the Python side is going\n",
              "// to poll for completion of each step.\n",
              "// This uses a Promise to block the python side on completion of each step,\n",
              "// then passes the result of the previous step as the input to the next step.\n",
              "function _uploadFilesContinue(outputId) {\n",
              "  const outputElement = document.getElementById(outputId);\n",
              "  const steps = outputElement.steps;\n",
              "\n",
              "  const next = steps.next(outputElement.lastPromiseValue);\n",
              "  return Promise.resolve(next.value.promise).then((value) => {\n",
              "    // Cache the last promise value to make it available to the next\n",
              "    // step of the generator.\n",
              "    outputElement.lastPromiseValue = value;\n",
              "    return next.value.response;\n",
              "  });\n",
              "}\n",
              "\n",
              "/**\n",
              " * Generator function which is called between each async step of the upload\n",
              " * process.\n",
              " * @param {string} inputId Element ID of the input file picker element.\n",
              " * @param {string} outputId Element ID of the output display.\n",
              " * @return {!Iterable<!Object>} Iterable of next steps.\n",
              " */\n",
              "function* uploadFilesStep(inputId, outputId) {\n",
              "  const inputElement = document.getElementById(inputId);\n",
              "  inputElement.disabled = false;\n",
              "\n",
              "  const outputElement = document.getElementById(outputId);\n",
              "  outputElement.innerHTML = '';\n",
              "\n",
              "  const pickedPromise = new Promise((resolve) => {\n",
              "    inputElement.addEventListener('change', (e) => {\n",
              "      resolve(e.target.files);\n",
              "    });\n",
              "  });\n",
              "\n",
              "  const cancel = document.createElement('button');\n",
              "  inputElement.parentElement.appendChild(cancel);\n",
              "  cancel.textContent = 'Cancel upload';\n",
              "  const cancelPromise = new Promise((resolve) => {\n",
              "    cancel.onclick = () => {\n",
              "      resolve(null);\n",
              "    };\n",
              "  });\n",
              "\n",
              "  // Wait for the user to pick the files.\n",
              "  const files = yield {\n",
              "    promise: Promise.race([pickedPromise, cancelPromise]),\n",
              "    response: {\n",
              "      action: 'starting',\n",
              "    }\n",
              "  };\n",
              "\n",
              "  cancel.remove();\n",
              "\n",
              "  // Disable the input element since further picks are not allowed.\n",
              "  inputElement.disabled = true;\n",
              "\n",
              "  if (!files) {\n",
              "    return {\n",
              "      response: {\n",
              "        action: 'complete',\n",
              "      }\n",
              "    };\n",
              "  }\n",
              "\n",
              "  for (const file of files) {\n",
              "    const li = document.createElement('li');\n",
              "    li.append(span(file.name, {fontWeight: 'bold'}));\n",
              "    li.append(span(\n",
              "        `(${file.type || 'n/a'}) - ${file.size} bytes, ` +\n",
              "        `last modified: ${\n",
              "            file.lastModifiedDate ? file.lastModifiedDate.toLocaleDateString() :\n",
              "                                    'n/a'} - `));\n",
              "    const percent = span('0% done');\n",
              "    li.appendChild(percent);\n",
              "\n",
              "    outputElement.appendChild(li);\n",
              "\n",
              "    const fileDataPromise = new Promise((resolve) => {\n",
              "      const reader = new FileReader();\n",
              "      reader.onload = (e) => {\n",
              "        resolve(e.target.result);\n",
              "      };\n",
              "      reader.readAsArrayBuffer(file);\n",
              "    });\n",
              "    // Wait for the data to be ready.\n",
              "    let fileData = yield {\n",
              "      promise: fileDataPromise,\n",
              "      response: {\n",
              "        action: 'continue',\n",
              "      }\n",
              "    };\n",
              "\n",
              "    // Use a chunked sending to avoid message size limits. See b/62115660.\n",
              "    let position = 0;\n",
              "    do {\n",
              "      const length = Math.min(fileData.byteLength - position, MAX_PAYLOAD_SIZE);\n",
              "      const chunk = new Uint8Array(fileData, position, length);\n",
              "      position += length;\n",
              "\n",
              "      const base64 = btoa(String.fromCharCode.apply(null, chunk));\n",
              "      yield {\n",
              "        response: {\n",
              "          action: 'append',\n",
              "          file: file.name,\n",
              "          data: base64,\n",
              "        },\n",
              "      };\n",
              "\n",
              "      let percentDone = fileData.byteLength === 0 ?\n",
              "          100 :\n",
              "          Math.round((position / fileData.byteLength) * 100);\n",
              "      percent.textContent = `${percentDone}% done`;\n",
              "\n",
              "    } while (position < fileData.byteLength);\n",
              "  }\n",
              "\n",
              "  // All done.\n",
              "  yield {\n",
              "    response: {\n",
              "      action: 'complete',\n",
              "    }\n",
              "  };\n",
              "}\n",
              "\n",
              "scope.google = scope.google || {};\n",
              "scope.google.colab = scope.google.colab || {};\n",
              "scope.google.colab._files = {\n",
              "  _uploadFiles,\n",
              "  _uploadFilesContinue,\n",
              "};\n",
              "})(self);\n",
              "</script> "
            ]
          },
          "metadata": {}
        },
        {
          "output_type": "stream",
          "name": "stdout",
          "text": [
            "Saving kaggle.json to kaggle.json\n",
            "Downloading bank-account-fraud-dataset-neurips-2022.zip to /content\n",
            "100% 545M/546M [00:30<00:00, 24.8MB/s]\n",
            "100% 546M/546M [00:30<00:00, 18.7MB/s]\n"
          ]
        }
      ]
    },
    {
      "cell_type": "markdown",
      "id": "fd9d247c",
      "metadata": {
        "id": "fd9d247c"
      },
      "source": [
        "# loading the classes"
      ]
    },
    {
      "cell_type": "code",
      "execution_count": 2,
      "id": "19b7ea23",
      "metadata": {
        "id": "19b7ea23"
      },
      "outputs": [],
      "source": [
        "from data_cleaning import *\n",
        "from modeling import *\n",
        "from preprocessing import *"
      ]
    },
    {
      "cell_type": "markdown",
      "id": "3ec568e9",
      "metadata": {
        "id": "3ec568e9"
      },
      "source": [
        "# Splitting the data"
      ]
    },
    {
      "cell_type": "code",
      "execution_count": 4,
      "id": "055ff280",
      "metadata": {
        "id": "055ff280"
      },
      "outputs": [],
      "source": [
        "def split_data(df,criteria='random'):\n",
        "    X = df.drop(['fraud_bool'], axis=1)\n",
        "    y = df['fraud_bool']\n",
        "    if criteria=='paper':\n",
        "\n",
        "        # Train test split by 'month', month 0-5 are train, 6-7 are test data as proposed in the paper\n",
        "        X_train = X[X['month']<6]\n",
        "        X_test = X[X['month']>=6]\n",
        "        y_train = y[X['month']<6]\n",
        "        y_test = y[X['month']>=6]\n",
        "\n",
        "\n",
        "    elif criteria=='random':\n",
        "        X_train, X_test, y_train, y_test = train_test_split(X, y, test_size=0.2, random_state=42)\n",
        "\n",
        "    elif criteria=='stratify':\n",
        "\n",
        "        X_train, X_test, y_train, y_test = train_test_split(X, y,stratify=y, test_size=0.2, random_state=42)\n",
        "\n",
        "    X_train.drop('month', axis=1, inplace=True)\n",
        "    X_test.drop('month', axis=1, inplace=True)\n",
        "    return X_train, X_test, y_train, y_test"
      ]
    },
    {
      "cell_type": "markdown",
      "id": "3143e44c",
      "metadata": {
        "id": "3143e44c"
      },
      "source": [
        "# reading the data"
      ]
    },
    {
      "cell_type": "code",
      "execution_count": 5,
      "id": "9ed0f7e1",
      "metadata": {
        "id": "9ed0f7e1"
      },
      "outputs": [],
      "source": [
        "df=data_cleaning('/content/data/Base.csv').get_data()"
      ]
    },
    {
      "cell_type": "code",
      "execution_count": 6,
      "id": "1fef7d6f",
      "metadata": {
        "id": "1fef7d6f"
      },
      "outputs": [],
      "source": [
        "# split the data\n",
        "X_train, X_test, y_train, y_test=split_data(df,criteria= 'paper')"
      ]
    },
    {
      "cell_type": "markdown",
      "id": "4e0fe857",
      "metadata": {
        "id": "4e0fe857"
      },
      "source": [
        "# getting the groups:"
      ]
    },
    {
      "cell_type": "code",
      "execution_count": 7,
      "id": "f664bf91",
      "metadata": {
        "id": "f664bf91"
      },
      "outputs": [],
      "source": [
        "train_groups=(X_train[\"customer_age\"] > 50).map({True: \">50\", False: \"<=50\"})\n",
        "test_groups=(X_test[\"customer_age\"] > 50).map({True: \">50\", False: \"<=50\"})"
      ]
    },
    {
      "cell_type": "markdown",
      "id": "d6ab8b22",
      "metadata": {
        "id": "d6ab8b22"
      },
      "source": [
        "# start the preprocessing"
      ]
    },
    {
      "cell_type": "code",
      "execution_count": 8,
      "id": "3360351f",
      "metadata": {
        "id": "3360351f"
      },
      "outputs": [],
      "source": [
        "data = preprocessing(X_train, y_train)\n"
      ]
    },
    {
      "cell_type": "markdown",
      "id": "e105813e",
      "metadata": {
        "id": "e105813e"
      },
      "source": [
        "# Scaling numerical features:"
      ]
    },
    {
      "cell_type": "code",
      "execution_count": 9,
      "id": "f65e09eb",
      "metadata": {
        "id": "f65e09eb"
      },
      "outputs": [],
      "source": [
        "scalers = {}\n",
        "for column in X_train.select_dtypes(include=['int','float']):\n",
        "    m,scaler=data.scale_data('standard',column)\n",
        "    scalers[column] = scaler"
      ]
    },
    {
      "cell_type": "code",
      "execution_count": 10,
      "id": "b47a06ad",
      "metadata": {
        "id": "b47a06ad"
      },
      "outputs": [],
      "source": [
        "# apply the same scaling on the testset\n",
        "for column in X_test.select_dtypes(include=['int','float']):\n",
        "    X_test[column] = scalers[column].transform(X_test[[column]])"
      ]
    },
    {
      "cell_type": "markdown",
      "id": "955010f2",
      "metadata": {
        "id": "955010f2"
      },
      "source": [
        "# encode the categorical features"
      ]
    },
    {
      "cell_type": "code",
      "execution_count": 11,
      "id": "c2f5f488",
      "metadata": {
        "id": "c2f5f488"
      },
      "outputs": [],
      "source": [
        "encoders = {}\n",
        "for column in X_train.select_dtypes(include=['category','object']):\n",
        "    _, encoder = data.encode_categorical_features(column , encoding_type= 'one-hot')\n",
        "    encoders[column] = encoder"
      ]
    },
    {
      "cell_type": "code",
      "execution_count": 12,
      "id": "e8dde1fa",
      "metadata": {
        "id": "e8dde1fa"
      },
      "outputs": [],
      "source": [
        "# apply the encoding on the testset\n",
        "for column in X_test.select_dtypes(include=['object','category']).columns:\n",
        "    ohe=encoders[column]\n",
        "    encoded_col = pd.DataFrame(ohe.transform(X_test[column].values.reshape(-1, 1)).toarray(),index=X_test.index)\n",
        "    encoded_col.columns = [column + '_' + str(val) for val in ohe.categories_[0]]\n",
        "    X_test = pd.concat([X_test, encoded_col], axis=1)\n",
        "    X_test.drop(columns=column, inplace=True,axis=1)"
      ]
    },
    {
      "cell_type": "code",
      "execution_count": 13,
      "id": "0d162ab5",
      "metadata": {
        "id": "0d162ab5"
      },
      "outputs": [],
      "source": [
        "# arrange the column names according to the concat data\n",
        "X_test=X_test[data.concat_data().columns]"
      ]
    },
    {
      "cell_type": "code",
      "execution_count": 14,
      "id": "b6b3ae4d",
      "metadata": {
        "id": "b6b3ae4d"
      },
      "outputs": [],
      "source": [
        "X_train,y_train=data.get_data()"
      ]
    },
    {
      "cell_type": "markdown",
      "id": "43a490d7",
      "metadata": {
        "id": "43a490d7"
      },
      "source": [
        "# modeling : training and evaluation"
      ]
    },
    {
      "cell_type": "code",
      "source": [
        "# Keras model using dropout and batch normalization\n",
        "nn_model2 = keras.Sequential([\n",
        "    keras.layers.BatchNormalization(input_shape=[X_train.shape[1]]),\n",
        "    keras.layers.Dense(128, activation='relu'),\n",
        "    keras.layers.Dropout(0.5),\n",
        "    keras.layers.BatchNormalization(),\n",
        "    keras.layers.Dense(64, activation='relu'),\n",
        "    keras.layers.Dropout(0.5),\n",
        "    keras.layers.BatchNormalization(),\n",
        "    keras.layers.Dense(64, activation='relu'),\n",
        "    keras.layers.Dropout(0.5),\n",
        "    keras.layers.BatchNormalization(),\n",
        "    keras.layers.Dense(32, activation='relu'),\n",
        "    keras.layers.Dropout(0.5),\n",
        "    keras.layers.Dense(1, activation='sigmoid')\n",
        "])"
      ],
      "metadata": {
        "_kg_hide-output": true,
        "execution": {
          "iopub.status.busy": "2023-01-10T21:39:58.721064Z",
          "iopub.execute_input": "2023-01-10T21:39:58.723205Z",
          "iopub.status.idle": "2023-01-10T21:43:31.464311Z",
          "shell.execute_reply.started": "2023-01-10T21:39:58.723166Z",
          "shell.execute_reply": "2023-01-10T21:43:31.463354Z"
        },
        "trusted": true,
        "id": "zJ6ZylPmNBTH"
      },
      "execution_count": 21,
      "outputs": [],
      "id": "zJ6ZylPmNBTH"
    },
    {
      "cell_type": "code",
      "execution_count": 22,
      "id": "a17bd5ad",
      "metadata": {
        "id": "a17bd5ad"
      },
      "outputs": [],
      "source": [
        "experiment=nn_modeling(nn_model2, X_train,X_test,y_train,y_test,train_groups,test_groups)"
      ]
    },
    {
      "cell_type": "code",
      "source": [
        "%%time\n",
        "hist = experiment.compile_and_train(lr = 1e-2)"
      ],
      "metadata": {
        "colab": {
          "base_uri": "https://localhost:8080/"
        },
        "id": "iIyJ9NsuLGIh",
        "outputId": "f77602c1-5102-4e0b-f8ca-abd6260340d9"
      },
      "id": "iIyJ9NsuLGIh",
      "execution_count": 23,
      "outputs": [
        {
          "output_type": "stream",
          "name": "stdout",
          "text": [
            "Epoch 1/100\n",
            "1398/1398 [==============================] - 20s 10ms/step - loss: 1.0744 - fn: 1721.0000 - fp: 182285.0000 - tn: 525054.0000 - tp: 6430.0000 - precision: 0.0341 - recall: 0.7889 - f1: 0.0702 - val_loss: 0.6498 - val_fn: 0.0000e+00 - val_fp: 26880.0000 - val_tn: 52619.0000 - val_tp: 0.0000e+00 - val_precision: 0.0000e+00 - val_recall: 0.0000e+00 - val_f1: 0.0000e+00\n",
            "Epoch 2/100\n",
            "1398/1398 [==============================] - 13s 9ms/step - loss: 0.9947 - fn: 1602.0000 - fp: 154510.0000 - tn: 552829.0000 - tp: 6549.0000 - precision: 0.0407 - recall: 0.8035 - f1: 0.0785 - val_loss: 0.5090 - val_fn: 0.0000e+00 - val_fp: 20358.0000 - val_tn: 59141.0000 - val_tp: 0.0000e+00 - val_precision: 0.0000e+00 - val_recall: 0.0000e+00 - val_f1: 0.0000e+00\n",
            "Epoch 3/100\n",
            "1398/1398 [==============================] - 12s 9ms/step - loss: 0.9837 - fn: 1618.0000 - fp: 150529.0000 - tn: 556810.0000 - tp: 6533.0000 - precision: 0.0416 - recall: 0.8015 - f1: 0.0803 - val_loss: 0.4698 - val_fn: 0.0000e+00 - val_fp: 17055.0000 - val_tn: 62444.0000 - val_tp: 0.0000e+00 - val_precision: 0.0000e+00 - val_recall: 0.0000e+00 - val_f1: 0.0000e+00\n",
            "Epoch 4/100\n",
            "1398/1398 [==============================] - 13s 9ms/step - loss: 0.9665 - fn: 1581.0000 - fp: 150148.0000 - tn: 557191.0000 - tp: 6570.0000 - precision: 0.0419 - recall: 0.8060 - f1: 0.0807 - val_loss: 0.6264 - val_fn: 0.0000e+00 - val_fp: 28344.0000 - val_tn: 51155.0000 - val_tp: 0.0000e+00 - val_precision: 0.0000e+00 - val_recall: 0.0000e+00 - val_f1: 0.0000e+00\n",
            "Epoch 5/100\n",
            "1398/1398 [==============================] - 13s 10ms/step - loss: 0.9686 - fn: 1580.0000 - fp: 149748.0000 - tn: 557591.0000 - tp: 6571.0000 - precision: 0.0420 - recall: 0.8062 - f1: 0.0809 - val_loss: 0.5370 - val_fn: 0.0000e+00 - val_fp: 16951.0000 - val_tn: 62548.0000 - val_tp: 0.0000e+00 - val_precision: 0.0000e+00 - val_recall: 0.0000e+00 - val_f1: 0.0000e+00\n",
            "Epoch 6/100\n",
            "1398/1398 [==============================] - 13s 10ms/step - loss: 0.9666 - fn: 1599.0000 - fp: 149536.0000 - tn: 557803.0000 - tp: 6552.0000 - precision: 0.0420 - recall: 0.8038 - f1: 0.0809 - val_loss: 0.4141 - val_fn: 0.0000e+00 - val_fp: 13127.0000 - val_tn: 66372.0000 - val_tp: 0.0000e+00 - val_precision: 0.0000e+00 - val_recall: 0.0000e+00 - val_f1: 0.0000e+00\n",
            "Epoch 7/100\n",
            "1398/1398 [==============================] - 14s 10ms/step - loss: 0.9624 - fn: 1536.0000 - fp: 145826.0000 - tn: 561513.0000 - tp: 6615.0000 - precision: 0.0434 - recall: 0.8116 - f1: 0.0834 - val_loss: 0.3390 - val_fn: 0.0000e+00 - val_fp: 10685.0000 - val_tn: 68814.0000 - val_tp: 0.0000e+00 - val_precision: 0.0000e+00 - val_recall: 0.0000e+00 - val_f1: 0.0000e+00\n",
            "Epoch 8/100\n",
            "1398/1398 [==============================] - 14s 10ms/step - loss: 0.9557 - fn: 1558.0000 - fp: 145110.0000 - tn: 562229.0000 - tp: 6593.0000 - precision: 0.0435 - recall: 0.8089 - f1: 0.0837 - val_loss: 0.5948 - val_fn: 0.0000e+00 - val_fp: 19932.0000 - val_tn: 59567.0000 - val_tp: 0.0000e+00 - val_precision: 0.0000e+00 - val_recall: 0.0000e+00 - val_f1: 0.0000e+00\n",
            "Epoch 9/100\n",
            "1398/1398 [==============================] - 13s 9ms/step - loss: 0.9563 - fn: 1512.0000 - fp: 150277.0000 - tn: 557062.0000 - tp: 6639.0000 - precision: 0.0423 - recall: 0.8145 - f1: 0.0818 - val_loss: 0.5061 - val_fn: 0.0000e+00 - val_fp: 18794.0000 - val_tn: 60705.0000 - val_tp: 0.0000e+00 - val_precision: 0.0000e+00 - val_recall: 0.0000e+00 - val_f1: 0.0000e+00\n",
            "Epoch 10/100\n",
            "1398/1398 [==============================] - 15s 11ms/step - loss: 0.9536 - fn: 1510.0000 - fp: 146886.0000 - tn: 560453.0000 - tp: 6641.0000 - precision: 0.0433 - recall: 0.8147 - f1: 0.0835 - val_loss: 0.4105 - val_fn: 0.0000e+00 - val_fp: 13328.0000 - val_tn: 66171.0000 - val_tp: 0.0000e+00 - val_precision: 0.0000e+00 - val_recall: 0.0000e+00 - val_f1: 0.0000e+00\n",
            "Epoch 11/100\n",
            "1398/1398 [==============================] - 13s 9ms/step - loss: 0.9505 - fn: 1553.0000 - fp: 145592.0000 - tn: 561747.0000 - tp: 6598.0000 - precision: 0.0434 - recall: 0.8095 - f1: 0.0837 - val_loss: 0.5043 - val_fn: 0.0000e+00 - val_fp: 18392.0000 - val_tn: 61107.0000 - val_tp: 0.0000e+00 - val_precision: 0.0000e+00 - val_recall: 0.0000e+00 - val_f1: 0.0000e+00\n",
            "CPU times: user 2min 44s, sys: 10.4 s, total: 2min 54s\n",
            "Wall time: 2min 37s\n"
          ]
        }
      ]
    },
    {
      "cell_type": "code",
      "source": [
        "experiment.score_keras_model()"
      ],
      "metadata": {
        "colab": {
          "base_uri": "https://localhost:8080/",
          "height": 1000
        },
        "id": "WOo0oj-vLNvF",
        "outputId": "5f5375cf-5941-4446-d6e3-43be9c82dbcc"
      },
      "id": "WOo0oj-vLNvF",
      "execution_count": 24,
      "outputs": [
        {
          "output_type": "stream",
          "name": "stdout",
          "text": [
            "6407/6407 [==============================] - 13s 2ms/step\n",
            "AUC: 0.878653319745883\n",
            "TPR:  50.029999999999994% \n",
            "FPR:  5.0% \n",
            "Threshold:  0.86\n",
            "Predictive Equality:  89.28%\n"
          ]
        },
        {
          "output_type": "display_data",
          "data": {
            "text/plain": [
              "<Figure size 1000x400 with 2 Axes>"
            ],
            "image/png": "[encoded data removed]"
          },
          "metadata": {}
        },
        {
          "output_type": "display_data",
          "data": {
            "text/plain": [
              "<Figure size 600x400 with 2 Axes>"
            ],
            "image/png": "[encoded data removed]"
          },
          "metadata": {}
        },
        {
          "output_type": "stream",
          "name": "stdout",
          "text": [
            "              precision    recall  f1-score   support\n",
            "\n",
            "           0       1.00      0.73      0.84    202133\n",
            "           1       0.04      0.87      0.08      2878\n",
            "\n",
            "    accuracy                           0.73    205011\n",
            "   macro avg       0.52      0.80      0.46    205011\n",
            "weighted avg       0.98      0.73      0.83    205011\n",
            "\n"
          ]
        }
      ]
    },
    {
      "cell_type": "code",
      "execution_count": 25,
      "id": "6050ccae",
      "metadata": {
        "colab": {
          "base_uri": "https://localhost:8080/",
          "height": 363
        },
        "id": "6050ccae",
        "outputId": "956de8f4-eec8-41ce-9662-b84ade22d04f"
      },
      "outputs": [
        {
          "output_type": "error",
          "ename": "TypeError",
          "evalue": "ignored",
          "traceback": [
            "\u001b[0;31m---------------------------------------------------------------------------\u001b[0m",
            "\u001b[0;31mTypeError\u001b[0m                                 Traceback (most recent call last)",
            "\u001b[0;32m<ipython-input-25-c728535a4dc6>\u001b[0m in \u001b[0;36m<cell line: 2>\u001b[0;34m()\u001b[0m\n\u001b[1;32m      1\u001b[0m \u001b[0;31m# Save the best model\u001b[0m\u001b[0;34m\u001b[0m\u001b[0;34m\u001b[0m\u001b[0m\n\u001b[0;32m----> 2\u001b[0;31m \u001b[0msaved_model_path\u001b[0m \u001b[0;34m=\u001b[0m \u001b[0mexperiment\u001b[0m\u001b[0;34m.\u001b[0m\u001b[0msave_model\u001b[0m\u001b[0;34m(\u001b[0m\u001b[0;34m'nn_model.pkl'\u001b[0m\u001b[0;34m)\u001b[0m\u001b[0;34m\u001b[0m\u001b[0;34m\u001b[0m\u001b[0m\n\u001b[0m\u001b[1;32m      3\u001b[0m \u001b[0mprint\u001b[0m\u001b[0;34m(\u001b[0m\u001b[0;34m\"Model saved at:\"\u001b[0m\u001b[0;34m,\u001b[0m \u001b[0msaved_model_path\u001b[0m\u001b[0;34m)\u001b[0m\u001b[0;34m\u001b[0m\u001b[0;34m\u001b[0m\u001b[0m\n",
            "\u001b[0;32m<ipython-input-19-1ac53189a880>\u001b[0m in \u001b[0;36msave_model\u001b[0;34m(self, filename)\u001b[0m\n\u001b[1;32m    178\u001b[0m         \u001b[0;31m# Save the model to disk using pickle\u001b[0m\u001b[0;34m\u001b[0m\u001b[0;34m\u001b[0m\u001b[0m\n\u001b[1;32m    179\u001b[0m         \u001b[0;32mwith\u001b[0m \u001b[0mopen\u001b[0m\u001b[0;34m(\u001b[0m\u001b[0mfilename\u001b[0m\u001b[0;34m,\u001b[0m \u001b[0;34m'wb'\u001b[0m\u001b[0;34m)\u001b[0m \u001b[0;32mas\u001b[0m \u001b[0mf\u001b[0m\u001b[0;34m:\u001b[0m\u001b[0;34m\u001b[0m\u001b[0;34m\u001b[0m\u001b[0m\n\u001b[0;32m--> 180\u001b[0;31m             \u001b[0mpickle\u001b[0m\u001b[0;34m.\u001b[0m\u001b[0mdump\u001b[0m\u001b[0;34m(\u001b[0m\u001b[0mself\u001b[0m\u001b[0;34m.\u001b[0m\u001b[0mmodel\u001b[0m\u001b[0;34m,\u001b[0m \u001b[0mf\u001b[0m\u001b[0;34m)\u001b[0m\u001b[0;34m\u001b[0m\u001b[0;34m\u001b[0m\u001b[0m\n\u001b[0m\u001b[1;32m    181\u001b[0m \u001b[0;34m\u001b[0m\u001b[0m\n\u001b[1;32m    182\u001b[0m         \u001b[0;31m# Return the path to the saved model file\u001b[0m\u001b[0;34m\u001b[0m\u001b[0;34m\u001b[0m\u001b[0m\n",
            "\u001b[0;32m/usr/local/lib/python3.10/dist-packages/keras/engine/training.py\u001b[0m in \u001b[0;36m__reduce__\u001b[0;34m(self)\u001b[0m\n\u001b[1;32m    362\u001b[0m             return (\n\u001b[1;32m    363\u001b[0m                 \u001b[0mpickle_utils\u001b[0m\u001b[0;34m.\u001b[0m\u001b[0mdeserialize_model_from_bytecode\u001b[0m\u001b[0;34m,\u001b[0m\u001b[0;34m\u001b[0m\u001b[0;34m\u001b[0m\u001b[0m\n\u001b[0;32m--> 364\u001b[0;31m                 \u001b[0;34m(\u001b[0m\u001b[0mpickle_utils\u001b[0m\u001b[0;34m.\u001b[0m\u001b[0mserialize_model_as_bytecode\u001b[0m\u001b[0;34m(\u001b[0m\u001b[0mself\u001b[0m\u001b[0;34m)\u001b[0m\u001b[0;34m,\u001b[0m\u001b[0;34m)\u001b[0m\u001b[0;34m,\u001b[0m\u001b[0;34m\u001b[0m\u001b[0;34m\u001b[0m\u001b[0m\n\u001b[0m\u001b[1;32m    365\u001b[0m             )\n\u001b[1;32m    366\u001b[0m         \u001b[0;32melse\u001b[0m\u001b[0;34m:\u001b[0m\u001b[0;34m\u001b[0m\u001b[0;34m\u001b[0m\u001b[0m\n",
            "\u001b[0;32m/usr/local/lib/python3.10/dist-packages/keras/saving/pickle_utils.py\u001b[0m in \u001b[0;36mserialize_model_as_bytecode\u001b[0;34m(model)\u001b[0m\n\u001b[1;32m     71\u001b[0m             \u001b[0mdata\u001b[0m \u001b[0;34m=\u001b[0m \u001b[0mf\u001b[0m\u001b[0;34m.\u001b[0m\u001b[0mread\u001b[0m\u001b[0;34m(\u001b[0m\u001b[0;34m)\u001b[0m\u001b[0;34m\u001b[0m\u001b[0;34m\u001b[0m\u001b[0m\n\u001b[1;32m     72\u001b[0m     \u001b[0;32mexcept\u001b[0m \u001b[0mException\u001b[0m \u001b[0;32mas\u001b[0m \u001b[0me\u001b[0m\u001b[0;34m:\u001b[0m\u001b[0;34m\u001b[0m\u001b[0;34m\u001b[0m\u001b[0m\n\u001b[0;32m---> 73\u001b[0;31m         \u001b[0;32mraise\u001b[0m \u001b[0me\u001b[0m\u001b[0;34m\u001b[0m\u001b[0;34m\u001b[0m\u001b[0m\n\u001b[0m\u001b[1;32m     74\u001b[0m     \u001b[0;32melse\u001b[0m\u001b[0;34m:\u001b[0m\u001b[0;34m\u001b[0m\u001b[0;34m\u001b[0m\u001b[0m\n\u001b[1;32m     75\u001b[0m         \u001b[0;32mreturn\u001b[0m \u001b[0mdata\u001b[0m\u001b[0;34m\u001b[0m\u001b[0;34m\u001b[0m\u001b[0m\n",
            "\u001b[0;32m/usr/local/lib/python3.10/dist-packages/keras/saving/pickle_utils.py\u001b[0m in \u001b[0;36mserialize_model_as_bytecode\u001b[0;34m(model)\u001b[0m\n\u001b[1;32m     67\u001b[0m     \u001b[0;32mtry\u001b[0m\u001b[0;34m:\u001b[0m\u001b[0;34m\u001b[0m\u001b[0;34m\u001b[0m\u001b[0m\n\u001b[1;32m     68\u001b[0m         \u001b[0mfilepath\u001b[0m \u001b[0;34m=\u001b[0m \u001b[0mos\u001b[0m\u001b[0;34m.\u001b[0m\u001b[0mpath\u001b[0m\u001b[0;34m.\u001b[0m\u001b[0mjoin\u001b[0m\u001b[0;34m(\u001b[0m\u001b[0mtemp_dir\u001b[0m\u001b[0;34m,\u001b[0m \u001b[0;34m\"model.keras\"\u001b[0m\u001b[0;34m)\u001b[0m\u001b[0;34m\u001b[0m\u001b[0;34m\u001b[0m\u001b[0m\n\u001b[0;32m---> 69\u001b[0;31m         \u001b[0msaving_lib\u001b[0m\u001b[0;34m.\u001b[0m\u001b[0msave_model\u001b[0m\u001b[0;34m(\u001b[0m\u001b[0mmodel\u001b[0m\u001b[0;34m,\u001b[0m \u001b[0mfilepath\u001b[0m\u001b[0;34m)\u001b[0m\u001b[0;34m\u001b[0m\u001b[0;34m\u001b[0m\u001b[0m\n\u001b[0m\u001b[1;32m     70\u001b[0m         \u001b[0;32mwith\u001b[0m \u001b[0mopen\u001b[0m\u001b[0;34m(\u001b[0m\u001b[0mfilepath\u001b[0m\u001b[0;34m,\u001b[0m \u001b[0;34m\"rb\"\u001b[0m\u001b[0;34m)\u001b[0m \u001b[0;32mas\u001b[0m \u001b[0mf\u001b[0m\u001b[0;34m:\u001b[0m\u001b[0;34m\u001b[0m\u001b[0;34m\u001b[0m\u001b[0m\n\u001b[1;32m     71\u001b[0m             \u001b[0mdata\u001b[0m \u001b[0;34m=\u001b[0m \u001b[0mf\u001b[0m\u001b[0;34m.\u001b[0m\u001b[0mread\u001b[0m\u001b[0;34m(\u001b[0m\u001b[0;34m)\u001b[0m\u001b[0;34m\u001b[0m\u001b[0;34m\u001b[0m\u001b[0m\n",
            "\u001b[0;32m/usr/local/lib/python3.10/dist-packages/keras/saving/saving_lib.py\u001b[0m in \u001b[0;36msave_model\u001b[0;34m(model, filepath, weights_format)\u001b[0m\n\u001b[1;32m    149\u001b[0m \u001b[0;34m\u001b[0m\u001b[0m\n\u001b[1;32m    150\u001b[0m     \u001b[0;32mwith\u001b[0m \u001b[0mObjectSharingScope\u001b[0m\u001b[0;34m(\u001b[0m\u001b[0;34m)\u001b[0m\u001b[0;34m:\u001b[0m\u001b[0;34m\u001b[0m\u001b[0;34m\u001b[0m\u001b[0m\n\u001b[0;32m--> 151\u001b[0;31m         \u001b[0mserialized_model_dict\u001b[0m \u001b[0;34m=\u001b[0m \u001b[0mserialize_keras_object\u001b[0m\u001b[0;34m(\u001b[0m\u001b[0mmodel\u001b[0m\u001b[0;34m)\u001b[0m\u001b[0;34m\u001b[0m\u001b[0;34m\u001b[0m\u001b[0m\n\u001b[0m\u001b[1;32m    152\u001b[0m     \u001b[0mconfig_json\u001b[0m \u001b[0;34m=\u001b[0m \u001b[0mjson\u001b[0m\u001b[0;34m.\u001b[0m\u001b[0mdumps\u001b[0m\u001b[0;34m(\u001b[0m\u001b[0mserialized_model_dict\u001b[0m\u001b[0;34m)\u001b[0m\u001b[0;34m\u001b[0m\u001b[0;34m\u001b[0m\u001b[0m\n\u001b[1;32m    153\u001b[0m     metadata_json = json.dumps(\n",
            "\u001b[0;32m/usr/local/lib/python3.10/dist-packages/keras/saving/serialization_lib.py\u001b[0m in \u001b[0;36mserialize_keras_object\u001b[0;34m(obj)\u001b[0m\n\u001b[1;32m    243\u001b[0m             \u001b[0mconfig\u001b[0m\u001b[0;34m[\u001b[0m\u001b[0;34m\"build_config\"\u001b[0m\u001b[0;34m]\u001b[0m \u001b[0;34m=\u001b[0m \u001b[0mserialize_dict\u001b[0m\u001b[0;34m(\u001b[0m\u001b[0mbuild_config\u001b[0m\u001b[0;34m)\u001b[0m\u001b[0;34m\u001b[0m\u001b[0;34m\u001b[0m\u001b[0m\n\u001b[1;32m    244\u001b[0m     \u001b[0;32mif\u001b[0m \u001b[0mhasattr\u001b[0m\u001b[0;34m(\u001b[0m\u001b[0mobj\u001b[0m\u001b[0;34m,\u001b[0m \u001b[0;34m\"get_compile_config\"\u001b[0m\u001b[0;34m)\u001b[0m\u001b[0;34m:\u001b[0m\u001b[0;34m\u001b[0m\u001b[0;34m\u001b[0m\u001b[0m\n\u001b[0;32m--> 245\u001b[0;31m         \u001b[0mcompile_config\u001b[0m \u001b[0;34m=\u001b[0m \u001b[0mobj\u001b[0m\u001b[0;34m.\u001b[0m\u001b[0mget_compile_config\u001b[0m\u001b[0;34m(\u001b[0m\u001b[0;34m)\u001b[0m\u001b[0;34m\u001b[0m\u001b[0;34m\u001b[0m\u001b[0m\n\u001b[0m\u001b[1;32m    246\u001b[0m         \u001b[0;32mif\u001b[0m \u001b[0mcompile_config\u001b[0m \u001b[0;32mis\u001b[0m \u001b[0;32mnot\u001b[0m \u001b[0;32mNone\u001b[0m\u001b[0;34m:\u001b[0m\u001b[0;34m\u001b[0m\u001b[0;34m\u001b[0m\u001b[0m\n\u001b[1;32m    247\u001b[0m             \u001b[0mconfig\u001b[0m\u001b[0;34m[\u001b[0m\u001b[0;34m\"compile_config\"\u001b[0m\u001b[0;34m]\u001b[0m \u001b[0;34m=\u001b[0m \u001b[0mserialize_dict\u001b[0m\u001b[0;34m(\u001b[0m\u001b[0mcompile_config\u001b[0m\u001b[0;34m)\u001b[0m\u001b[0;34m\u001b[0m\u001b[0;34m\u001b[0m\u001b[0m\n",
            "\u001b[0;32m/usr/local/lib/python3.10/dist-packages/keras/engine/training.py\u001b[0m in \u001b[0;36mget_compile_config\u001b[0;34m(self)\u001b[0m\n\u001b[1;32m   3371\u001b[0m     \u001b[0;32mdef\u001b[0m \u001b[0mget_compile_config\u001b[0m\u001b[0;34m(\u001b[0m\u001b[0mself\u001b[0m\u001b[0;34m)\u001b[0m\u001b[0;34m:\u001b[0m\u001b[0;34m\u001b[0m\u001b[0;34m\u001b[0m\u001b[0m\n\u001b[1;32m   3372\u001b[0m         \u001b[0;32mif\u001b[0m \u001b[0mself\u001b[0m\u001b[0;34m.\u001b[0m\u001b[0m_is_compiled\u001b[0m \u001b[0;32mand\u001b[0m \u001b[0mhasattr\u001b[0m\u001b[0;34m(\u001b[0m\u001b[0mself\u001b[0m\u001b[0;34m,\u001b[0m \u001b[0;34m\"_compile_config\"\u001b[0m\u001b[0;34m)\u001b[0m\u001b[0;34m:\u001b[0m\u001b[0;34m\u001b[0m\u001b[0;34m\u001b[0m\u001b[0m\n\u001b[0;32m-> 3373\u001b[0;31m             \u001b[0;32mreturn\u001b[0m \u001b[0mself\u001b[0m\u001b[0;34m.\u001b[0m\u001b[0m_compile_config\u001b[0m\u001b[0;34m.\u001b[0m\u001b[0mserialize\u001b[0m\u001b[0;34m(\u001b[0m\u001b[0;34m)\u001b[0m\u001b[0;34m\u001b[0m\u001b[0;34m\u001b[0m\u001b[0m\n\u001b[0m\u001b[1;32m   3374\u001b[0m \u001b[0;34m\u001b[0m\u001b[0m\n\u001b[1;32m   3375\u001b[0m     \u001b[0;32mdef\u001b[0m \u001b[0mcompile_from_config\u001b[0m\u001b[0;34m(\u001b[0m\u001b[0mself\u001b[0m\u001b[0;34m,\u001b[0m \u001b[0mconfig\u001b[0m\u001b[0;34m)\u001b[0m\u001b[0;34m:\u001b[0m\u001b[0;34m\u001b[0m\u001b[0;34m\u001b[0m\u001b[0m\n",
            "\u001b[0;32m/usr/local/lib/python3.10/dist-packages/keras/saving/serialization_lib.py\u001b[0m in \u001b[0;36mserialize\u001b[0;34m(self)\u001b[0m\n\u001b[1;32m     43\u001b[0m \u001b[0;34m\u001b[0m\u001b[0m\n\u001b[1;32m     44\u001b[0m     \u001b[0;32mdef\u001b[0m \u001b[0mserialize\u001b[0m\u001b[0;34m(\u001b[0m\u001b[0mself\u001b[0m\u001b[0;34m)\u001b[0m\u001b[0;34m:\u001b[0m\u001b[0;34m\u001b[0m\u001b[0;34m\u001b[0m\u001b[0m\n\u001b[0;32m---> 45\u001b[0;31m         \u001b[0;32mreturn\u001b[0m \u001b[0mserialize_keras_object\u001b[0m\u001b[0;34m(\u001b[0m\u001b[0mself\u001b[0m\u001b[0;34m.\u001b[0m\u001b[0mconfig\u001b[0m\u001b[0;34m)\u001b[0m\u001b[0;34m\u001b[0m\u001b[0;34m\u001b[0m\u001b[0m\n\u001b[0m\u001b[1;32m     46\u001b[0m \u001b[0;34m\u001b[0m\u001b[0m\n\u001b[1;32m     47\u001b[0m \u001b[0;34m\u001b[0m\u001b[0m\n",
            "\u001b[0;32m/usr/local/lib/python3.10/dist-packages/keras/saving/serialization_lib.py\u001b[0m in \u001b[0;36mserialize_keras_object\u001b[0;34m(obj)\u001b[0m\n\u001b[1;32m    139\u001b[0m         \u001b[0;32mreturn\u001b[0m \u001b[0;34m[\u001b[0m\u001b[0mserialize_keras_object\u001b[0m\u001b[0;34m(\u001b[0m\u001b[0mx\u001b[0m\u001b[0;34m)\u001b[0m \u001b[0;32mfor\u001b[0m \u001b[0mx\u001b[0m \u001b[0;32min\u001b[0m \u001b[0mobj\u001b[0m\u001b[0;34m]\u001b[0m\u001b[0;34m\u001b[0m\u001b[0;34m\u001b[0m\u001b[0m\n\u001b[1;32m    140\u001b[0m     \u001b[0;32mif\u001b[0m \u001b[0misinstance\u001b[0m\u001b[0;34m(\u001b[0m\u001b[0mobj\u001b[0m\u001b[0;34m,\u001b[0m \u001b[0mdict\u001b[0m\u001b[0;34m)\u001b[0m\u001b[0;34m:\u001b[0m\u001b[0;34m\u001b[0m\u001b[0;34m\u001b[0m\u001b[0m\n\u001b[0;32m--> 141\u001b[0;31m         \u001b[0;32mreturn\u001b[0m \u001b[0mserialize_dict\u001b[0m\u001b[0;34m(\u001b[0m\u001b[0mobj\u001b[0m\u001b[0;34m)\u001b[0m\u001b[0;34m\u001b[0m\u001b[0;34m\u001b[0m\u001b[0m\n\u001b[0m\u001b[1;32m    142\u001b[0m \u001b[0;34m\u001b[0m\u001b[0m\n\u001b[1;32m    143\u001b[0m     \u001b[0;31m# Special cases:\u001b[0m\u001b[0;34m\u001b[0m\u001b[0;34m\u001b[0m\u001b[0m\n",
            "\u001b[0;32m/usr/local/lib/python3.10/dist-packages/keras/saving/serialization_lib.py\u001b[0m in \u001b[0;36mserialize_dict\u001b[0;34m(obj)\u001b[0m\n\u001b[1;32m    273\u001b[0m \u001b[0;34m\u001b[0m\u001b[0m\n\u001b[1;32m    274\u001b[0m \u001b[0;32mdef\u001b[0m \u001b[0mserialize_dict\u001b[0m\u001b[0;34m(\u001b[0m\u001b[0mobj\u001b[0m\u001b[0;34m)\u001b[0m\u001b[0;34m:\u001b[0m\u001b[0;34m\u001b[0m\u001b[0;34m\u001b[0m\u001b[0m\n\u001b[0;32m--> 275\u001b[0;31m     \u001b[0;32mreturn\u001b[0m \u001b[0;34m{\u001b[0m\u001b[0mkey\u001b[0m\u001b[0;34m:\u001b[0m \u001b[0mserialize_keras_object\u001b[0m\u001b[0;34m(\u001b[0m\u001b[0mvalue\u001b[0m\u001b[0;34m)\u001b[0m \u001b[0;32mfor\u001b[0m \u001b[0mkey\u001b[0m\u001b[0;34m,\u001b[0m \u001b[0mvalue\u001b[0m \u001b[0;32min\u001b[0m \u001b[0mobj\u001b[0m\u001b[0;34m.\u001b[0m\u001b[0mitems\u001b[0m\u001b[0;34m(\u001b[0m\u001b[0;34m)\u001b[0m\u001b[0;34m}\u001b[0m\u001b[0;34m\u001b[0m\u001b[0;34m\u001b[0m\u001b[0m\n\u001b[0m\u001b[1;32m    276\u001b[0m \u001b[0;34m\u001b[0m\u001b[0m\n\u001b[1;32m    277\u001b[0m \u001b[0;34m\u001b[0m\u001b[0m\n",
            "\u001b[0;32m/usr/local/lib/python3.10/dist-packages/keras/saving/serialization_lib.py\u001b[0m in \u001b[0;36m<dictcomp>\u001b[0;34m(.0)\u001b[0m\n\u001b[1;32m    273\u001b[0m \u001b[0;34m\u001b[0m\u001b[0m\n\u001b[1;32m    274\u001b[0m \u001b[0;32mdef\u001b[0m \u001b[0mserialize_dict\u001b[0m\u001b[0;34m(\u001b[0m\u001b[0mobj\u001b[0m\u001b[0;34m)\u001b[0m\u001b[0;34m:\u001b[0m\u001b[0;34m\u001b[0m\u001b[0;34m\u001b[0m\u001b[0m\n\u001b[0;32m--> 275\u001b[0;31m     \u001b[0;32mreturn\u001b[0m \u001b[0;34m{\u001b[0m\u001b[0mkey\u001b[0m\u001b[0;34m:\u001b[0m \u001b[0mserialize_keras_object\u001b[0m\u001b[0;34m(\u001b[0m\u001b[0mvalue\u001b[0m\u001b[0;34m)\u001b[0m \u001b[0;32mfor\u001b[0m \u001b[0mkey\u001b[0m\u001b[0;34m,\u001b[0m \u001b[0mvalue\u001b[0m \u001b[0;32min\u001b[0m \u001b[0mobj\u001b[0m\u001b[0;34m.\u001b[0m\u001b[0mitems\u001b[0m\u001b[0;34m(\u001b[0m\u001b[0;34m)\u001b[0m\u001b[0;34m}\u001b[0m\u001b[0;34m\u001b[0m\u001b[0;34m\u001b[0m\u001b[0m\n\u001b[0m\u001b[1;32m    276\u001b[0m \u001b[0;34m\u001b[0m\u001b[0m\n\u001b[1;32m    277\u001b[0m \u001b[0;34m\u001b[0m\u001b[0m\n",
            "\u001b[0;32m/usr/local/lib/python3.10/dist-packages/keras/saving/serialization_lib.py\u001b[0m in \u001b[0;36mserialize_keras_object\u001b[0;34m(obj)\u001b[0m\n\u001b[1;32m    137\u001b[0m \u001b[0;34m\u001b[0m\u001b[0m\n\u001b[1;32m    138\u001b[0m     \u001b[0;32mif\u001b[0m \u001b[0misinstance\u001b[0m\u001b[0;34m(\u001b[0m\u001b[0mobj\u001b[0m\u001b[0;34m,\u001b[0m \u001b[0;34m(\u001b[0m\u001b[0mlist\u001b[0m\u001b[0;34m,\u001b[0m \u001b[0mtuple\u001b[0m\u001b[0;34m)\u001b[0m\u001b[0;34m)\u001b[0m\u001b[0;34m:\u001b[0m\u001b[0;34m\u001b[0m\u001b[0;34m\u001b[0m\u001b[0m\n\u001b[0;32m--> 139\u001b[0;31m         \u001b[0;32mreturn\u001b[0m \u001b[0;34m[\u001b[0m\u001b[0mserialize_keras_object\u001b[0m\u001b[0;34m(\u001b[0m\u001b[0mx\u001b[0m\u001b[0;34m)\u001b[0m \u001b[0;32mfor\u001b[0m \u001b[0mx\u001b[0m \u001b[0;32min\u001b[0m \u001b[0mobj\u001b[0m\u001b[0;34m]\u001b[0m\u001b[0;34m\u001b[0m\u001b[0;34m\u001b[0m\u001b[0m\n\u001b[0m\u001b[1;32m    140\u001b[0m     \u001b[0;32mif\u001b[0m \u001b[0misinstance\u001b[0m\u001b[0;34m(\u001b[0m\u001b[0mobj\u001b[0m\u001b[0;34m,\u001b[0m \u001b[0mdict\u001b[0m\u001b[0;34m)\u001b[0m\u001b[0;34m:\u001b[0m\u001b[0;34m\u001b[0m\u001b[0;34m\u001b[0m\u001b[0m\n\u001b[1;32m    141\u001b[0m         \u001b[0;32mreturn\u001b[0m \u001b[0mserialize_dict\u001b[0m\u001b[0;34m(\u001b[0m\u001b[0mobj\u001b[0m\u001b[0;34m)\u001b[0m\u001b[0;34m\u001b[0m\u001b[0;34m\u001b[0m\u001b[0m\n",
            "\u001b[0;32m/usr/local/lib/python3.10/dist-packages/keras/saving/serialization_lib.py\u001b[0m in \u001b[0;36m<listcomp>\u001b[0;34m(.0)\u001b[0m\n\u001b[1;32m    137\u001b[0m \u001b[0;34m\u001b[0m\u001b[0m\n\u001b[1;32m    138\u001b[0m     \u001b[0;32mif\u001b[0m \u001b[0misinstance\u001b[0m\u001b[0;34m(\u001b[0m\u001b[0mobj\u001b[0m\u001b[0;34m,\u001b[0m \u001b[0;34m(\u001b[0m\u001b[0mlist\u001b[0m\u001b[0;34m,\u001b[0m \u001b[0mtuple\u001b[0m\u001b[0;34m)\u001b[0m\u001b[0;34m)\u001b[0m\u001b[0;34m:\u001b[0m\u001b[0;34m\u001b[0m\u001b[0;34m\u001b[0m\u001b[0m\n\u001b[0;32m--> 139\u001b[0;31m         \u001b[0;32mreturn\u001b[0m \u001b[0;34m[\u001b[0m\u001b[0mserialize_keras_object\u001b[0m\u001b[0;34m(\u001b[0m\u001b[0mx\u001b[0m\u001b[0;34m)\u001b[0m \u001b[0;32mfor\u001b[0m \u001b[0mx\u001b[0m \u001b[0;32min\u001b[0m \u001b[0mobj\u001b[0m\u001b[0;34m]\u001b[0m\u001b[0;34m\u001b[0m\u001b[0;34m\u001b[0m\u001b[0m\n\u001b[0m\u001b[1;32m    140\u001b[0m     \u001b[0;32mif\u001b[0m \u001b[0misinstance\u001b[0m\u001b[0;34m(\u001b[0m\u001b[0mobj\u001b[0m\u001b[0;34m,\u001b[0m \u001b[0mdict\u001b[0m\u001b[0;34m)\u001b[0m\u001b[0;34m:\u001b[0m\u001b[0;34m\u001b[0m\u001b[0;34m\u001b[0m\u001b[0m\n\u001b[1;32m    141\u001b[0m         \u001b[0;32mreturn\u001b[0m \u001b[0mserialize_dict\u001b[0m\u001b[0;34m(\u001b[0m\u001b[0mobj\u001b[0m\u001b[0;34m)\u001b[0m\u001b[0;34m\u001b[0m\u001b[0;34m\u001b[0m\u001b[0m\n",
            "\u001b[0;32m/usr/local/lib/python3.10/dist-packages/keras/saving/serialization_lib.py\u001b[0m in \u001b[0;36mserialize_keras_object\u001b[0;34m(obj)\u001b[0m\n\u001b[1;32m    235\u001b[0m         \u001b[0;34m\"module\"\u001b[0m\u001b[0;34m:\u001b[0m \u001b[0mmodule\u001b[0m\u001b[0;34m,\u001b[0m\u001b[0;34m\u001b[0m\u001b[0;34m\u001b[0m\u001b[0m\n\u001b[1;32m    236\u001b[0m         \u001b[0;34m\"class_name\"\u001b[0m\u001b[0;34m:\u001b[0m \u001b[0mclass_name\u001b[0m\u001b[0;34m,\u001b[0m\u001b[0;34m\u001b[0m\u001b[0;34m\u001b[0m\u001b[0m\n\u001b[0;32m--> 237\u001b[0;31m         \u001b[0;34m\"config\"\u001b[0m\u001b[0;34m:\u001b[0m \u001b[0m_get_class_or_fn_config\u001b[0m\u001b[0;34m(\u001b[0m\u001b[0mobj\u001b[0m\u001b[0;34m)\u001b[0m\u001b[0;34m,\u001b[0m\u001b[0;34m\u001b[0m\u001b[0;34m\u001b[0m\u001b[0m\n\u001b[0m\u001b[1;32m    238\u001b[0m         \u001b[0;34m\"registered_name\"\u001b[0m\u001b[0;34m:\u001b[0m \u001b[0mregistered_name\u001b[0m\u001b[0;34m,\u001b[0m\u001b[0;34m\u001b[0m\u001b[0;34m\u001b[0m\u001b[0m\n\u001b[1;32m    239\u001b[0m     }\n",
            "\u001b[0;32m/usr/local/lib/python3.10/dist-packages/keras/saving/serialization_lib.py\u001b[0m in \u001b[0;36m_get_class_or_fn_config\u001b[0;34m(obj)\u001b[0m\n\u001b[1;32m    265\u001b[0m         \u001b[0;32mreturn\u001b[0m \u001b[0mserialize_dict\u001b[0m\u001b[0;34m(\u001b[0m\u001b[0mconfig\u001b[0m\u001b[0;34m)\u001b[0m\u001b[0;34m\u001b[0m\u001b[0;34m\u001b[0m\u001b[0m\n\u001b[1;32m    266\u001b[0m     \u001b[0;32melse\u001b[0m\u001b[0;34m:\u001b[0m\u001b[0;34m\u001b[0m\u001b[0;34m\u001b[0m\u001b[0m\n\u001b[0;32m--> 267\u001b[0;31m         raise TypeError(\n\u001b[0m\u001b[1;32m    268\u001b[0m             \u001b[0;34mf\"Cannot serialize object {obj} of type {type(obj)}. \"\u001b[0m\u001b[0;34m\u001b[0m\u001b[0;34m\u001b[0m\u001b[0m\n\u001b[1;32m    269\u001b[0m             \u001b[0;34m\"To be serializable, \"\u001b[0m\u001b[0;34m\u001b[0m\u001b[0;34m\u001b[0m\u001b[0m\n",
            "\u001b[0;31mTypeError\u001b[0m: Cannot serialize object <bound method nn_modeling.f1 of <__main__.nn_modeling object at 0x7a1b501dbf10>> of type <class 'method'>. To be serializable, a class must implement the `get_config()` method."
          ]
        }
      ],
      "source": [
        "# Save the best model\n",
        "saved_model_path = experiment.save_model('nn_model.h5')\n",
        "print(\"Model saved at:\", saved_model_path)"
      ]
    }
  ],
  "metadata": {
    "kernelspec": {
      "display_name": "Python 3",
      "name": "python3"
    },
    "language_info": {
      "codemirror_mode": {
        "name": "ipython",
        "version": 3
      },
      "file_extension": ".py",
      "mimetype": "text/x-python",
      "name": "python",
      "nbconvert_exporter": "python",
      "pygments_lexer": "ipython3",
      "version": "3.8.16"
    },
    "colab": {
      "provenance": [],
      "gpuType": "T4"
    },
    "accelerator": "GPU"
  },
  "nbformat": 4,
  "nbformat_minor": 5
}